{
 "cells": [
  {
   "cell_type": "markdown",
   "metadata": {},
   "source": [
    "# Summary of Findings (EDA)\n",
    "\n",
    "## Leading Question \n",
    "What are the characteristics that will lead to higher impressions per spend?\n",
    "\n",
    "### Introduction\n",
    "We want to use the data of the snapchat's political advertisement to find the elements that is related to high efficiency. High efficiency means there are more impressions per spend. By doing so, we will help the advertisers to gain a general idea about how they should provide their advertisments in order to gain more views using less money.\n",
    "\n",
    "### Cleaning and EDA\n",
    "We first clean the data and do some data exploration to find the elements we want to track. we use univariate, bivariate, and aggregation to explore the data \n",
    "1. we convert the 'StartDate' and 'EndDate' to datetime object for future exploration.\n",
    "2. `univariate/aggregate`: we do some exploration on the most prevalent value on some columns include organization name and paying advertisement name.\n",
    "3. `bivariate`:using the corr( ) function to find the correlation among columns, we find out that the spend column has a strong positive correlation with impression column.\n",
    "4. `univariate`:plotting the histograms of the spend column and impression column, the histograms look really similar.\n",
    "5. `bivariate`:Then, we plot the scatterplot plot of the two columns and we find out it also confirms our idea that spend and impression have a strong positive correlation.\n",
    "6. we now come up the idea of the efficiency and we start to form the efficiency column for the table, which is the impression devided by the spend. We find out that there are twelve columns that have spend equals to 0 and we change it into 1 in order to avoid future errors.\n",
    "\n",
    "### Assessment of Missingness\n",
    "We then divide the data into high efficiency group (top 75% of the dataset) and low efficiency group (last 25% of the dataset) and find there difference in missingness value. We find out that they have a huge difference in columns 'Segments', 'EndDate', and 'CreativeProperties'.\n",
    "#### Permutation Test on Missingness using the difference of efficiency mean \n",
    "We use the difference of the efficiency mean to analyze the dataset, we try six different permutation test on columns 'Segments', 'EndDate', and 'CreativeProperties' and with dataset High Efficiency and Low Efficiency.\n",
    "1. `Null Hypothesis`: the missingness and the non-missingness data of a specific column with respect to efficiency come from the same distribution.\n",
    "2. `Alt Hypothesis`: the missingness and the non-missingness data of a specific column with respect to efficiency come from different distribution.\n",
    "3. `Test statistics`: absolute difference of the efficiency mean\n",
    "4. `Conclusion`: we find out that all the columns are MCAR to High Efficiency dataset but MAR or NMAR to Low Efficiency dataset with respect to efficiency.\n",
    "\n",
    "#### Final Conclusion of Missingness\n",
    "We think that Segments and CreativeProperties are `MCAR` in high efficiency dataset because Ads with high efficiency usually won't intentionally seek for audiences because they already have their own pool of audiances. Therefore, they don't really need to recruit audiences by actively searching them(such as using Snap Audience match) or setting up websites to promote the Ads(website to call for action). The permutation test shows that those columns are `not dependent` with Efficiency column\n",
    "\n",
    "Segments and CreativeProperties might be `MAR` or `NMAR` in low efficiency dataset because Ads with low efficiency generally wants to recruit more audiences in order to increase their efficiency. The permutation test shows that those columns might `dependent` with Efficiency column\n",
    "\n",
    "\n",
    "### Hypothesis Test\n",
    "After exploring the missingness of the dataset, we want to further understand would other columns affect the efficiency. We find out for lots of columns, their NaN value have some meaning. \n",
    "We choose 'Language' and 'Interests' as two columns to develop future analyze.\n",
    "According to 'Readme.txt', the meaning of NaN in 'Language' column means that the advertisement does not have a specific target of language. Thus, we separate the 'Language' column into two categories, one category is having a specific target of language and another is not having a target.\n",
    "We do the same thing to 'Interests' column. We separate the 'Interests' column into 'Having target on certain interests group' with 'To general people' according to 'Readme.txt'\n",
    "#### Permutation Test on Missingness using the difference of efficiency mean \n",
    "We use the difference of the efficiency mean to analyze the dataset on 'Language' and 'Interests' columns\n",
    "1. `Null Hypothesis`: the value does not effect the efficiency\n",
    "2. `Alt Hypothesis`: the value will lead to higher efficiency\n",
    "3. `Test statistics`: difference of the efficiency mean\n",
    "4. `Conclusion`: we find out that the columns will lead to higher efficiency\n",
    "\n",
    "We do more exploration to verify our answer\n",
    "\n",
    "#### Ploting the distribution\n",
    "We define a function that can help us plot the distribution of the specific target vs non-specific target.\n",
    "We find out that for the dataset, the distributions are not much similar for both columns.\n",
    "\n",
    "#### Permutation Test on Missingness using the ks-statistic\n",
    "We use the ks-statistic to analyze the dataset on 'Language' and 'Interests' columns\n",
    "1. `Null Hypothesis`: the value does not effect the efficiency\n",
    "2. `Alt Hypothesis`: the value will lead to higher efficiency\n",
    "3. `Test statistics`: ks-statistic\n",
    "4. `Conclusion`: we find out that the columns will lead to higher efficiency\n",
    "\n",
    "#### Final Conclusion on Hypothesis test\n",
    "We find out that if we target a specific group of people on a certain area like using a specific kind of language or having a specific interest might lead to higher efficiency on their advertisements on internet. \n",
    "\n",
    "#### Remark\n",
    "Still, it seems that more spend lead to more impressions and thus more efficiency. Therefore, spend is the major effector for efficiency. Therefore, most comapanies would maximize their ads reach through spending. The high efficiency ads tend to not run low on budget since most of them are supported by large companies. However, for ads with low efficiency that are limitted in budget, finding ways to recruit the audiences(indicated in Segments and CreativeProperties) without injecting more money are generally executed by those Ads."
   ]
  },
  {
   "cell_type": "markdown",
   "metadata": {},
   "source": [
    "# Code"
   ]
  },
  {
   "cell_type": "code",
   "execution_count": 1,
   "metadata": {},
   "outputs": [],
   "source": [
    "import matplotlib.pyplot as plt\n",
    "import numpy as np\n",
    "import os\n",
    "import pandas as pd\n",
    "import seaborn as sns\n",
    "%matplotlib inline\n",
    "%config InlineBackend.figure_format = 'retina'  # Higher resolution figures"
   ]
  },
  {
   "cell_type": "markdown",
   "metadata": {},
   "source": [
    "### Cleaning and EDA"
   ]
  },
  {
   "cell_type": "markdown",
   "metadata": {},
   "source": [
    "##### Reading Data\n",
    "Before doing anything, we first have to examine the data. First, we read in Political Ads data from year 2018 and 2019 and combine them into a single dataframe. Then, we check the types of the data as well as the number of null values inside each column."
   ]
  },
  {
   "cell_type": "code",
   "execution_count": 3,
   "metadata": {},
   "outputs": [
    {
     "name": "stdout",
     "output_type": "stream",
     "text": [
      "ads_2018: (659, 27) ads_2019: (2630, 27) combined: (3289, 28)\n"
     ]
    },
    {
     "data": {
      "text/html": [
       "<div>\n",
       "<style scoped>\n",
       "    .dataframe tbody tr th:only-of-type {\n",
       "        vertical-align: middle;\n",
       "    }\n",
       "\n",
       "    .dataframe tbody tr th {\n",
       "        vertical-align: top;\n",
       "    }\n",
       "\n",
       "    .dataframe thead th {\n",
       "        text-align: right;\n",
       "    }\n",
       "</style>\n",
       "<table border=\"1\" class=\"dataframe\">\n",
       "  <thead>\n",
       "    <tr style=\"text-align: right;\">\n",
       "      <th></th>\n",
       "      <th>index</th>\n",
       "      <th>ADID</th>\n",
       "      <th>CreativeUrl</th>\n",
       "      <th>Spend</th>\n",
       "      <th>Impressions</th>\n",
       "      <th>StartDate</th>\n",
       "      <th>EndDate</th>\n",
       "      <th>OrganizationName</th>\n",
       "      <th>BillingAddress</th>\n",
       "      <th>CandidateBallotInformation</th>\n",
       "      <th>...</th>\n",
       "      <th>Interests</th>\n",
       "      <th>OsType</th>\n",
       "      <th>Segments</th>\n",
       "      <th>LocationType</th>\n",
       "      <th>Language</th>\n",
       "      <th>AdvancedDemographics</th>\n",
       "      <th>Targeting Connection Type</th>\n",
       "      <th>Targeting Carrier (ISP)</th>\n",
       "      <th>Targeting Geo - Postal Code</th>\n",
       "      <th>CreativeProperties</th>\n",
       "    </tr>\n",
       "  </thead>\n",
       "  <tbody>\n",
       "    <tr>\n",
       "      <td>0</td>\n",
       "      <td>0</td>\n",
       "      <td>68189125240c16e3dcec398a7b4e040e74621ccf11df25...</td>\n",
       "      <td>https://www.snap.com/political-ads/asset/b2d0c...</td>\n",
       "      <td>2</td>\n",
       "      <td>1301</td>\n",
       "      <td>2018/08/22 15:00:40Z</td>\n",
       "      <td>2018/09/09 12:30:23Z</td>\n",
       "      <td>Context Media</td>\n",
       "      <td>Västra Norrlandsgatan 7 ,UMEÅ,90327,SE</td>\n",
       "      <td>NaN</td>\n",
       "      <td>...</td>\n",
       "      <td>NaN</td>\n",
       "      <td>NaN</td>\n",
       "      <td>Provided by Advertiser</td>\n",
       "      <td>NaN</td>\n",
       "      <td>sv</td>\n",
       "      <td>NaN</td>\n",
       "      <td>NaN</td>\n",
       "      <td>NaN</td>\n",
       "      <td>NaN</td>\n",
       "      <td>web_view_url:http://www.socialdemokraterna.nu/...</td>\n",
       "    </tr>\n",
       "    <tr>\n",
       "      <td>1</td>\n",
       "      <td>1</td>\n",
       "      <td>3542d40ba9fb0f0aa52889b03ea4a7db64ee4a3687aa6e...</td>\n",
       "      <td>https://www.snap.com/political-ads/asset/bc5a0...</td>\n",
       "      <td>143</td>\n",
       "      <td>49094</td>\n",
       "      <td>2018/09/12 10:01:00Z</td>\n",
       "      <td>2018/09/15 17:59:00Z</td>\n",
       "      <td>Congressman Pete King</td>\n",
       "      <td>US</td>\n",
       "      <td>NaN</td>\n",
       "      <td>...</td>\n",
       "      <td>Political News Watchers,ZZ_Deprecated_1</td>\n",
       "      <td>NaN</td>\n",
       "      <td>Provided by Advertiser</td>\n",
       "      <td>NaN</td>\n",
       "      <td>NaN</td>\n",
       "      <td>NaN</td>\n",
       "      <td>NaN</td>\n",
       "      <td>NaN</td>\n",
       "      <td>11701,11702,11706,11705,11714,11715,11716,1171...</td>\n",
       "      <td>web_view_url:http://peteking.com/2018campaignf...</td>\n",
       "    </tr>\n",
       "    <tr>\n",
       "      <td>2</td>\n",
       "      <td>2</td>\n",
       "      <td>6d1eb1af8c01a43def7b695fd19f2c43fa6625d126a063...</td>\n",
       "      <td>https://www.snap.com/political-ads/asset/d9367...</td>\n",
       "      <td>1913</td>\n",
       "      <td>886571</td>\n",
       "      <td>2018/10/21 22:19:57Z</td>\n",
       "      <td>2018/11/05 23:17:28Z</td>\n",
       "      <td>Ohio Democratic Party</td>\n",
       "      <td>US</td>\n",
       "      <td>NaN</td>\n",
       "      <td>...</td>\n",
       "      <td>NaN</td>\n",
       "      <td>NaN</td>\n",
       "      <td>NaN</td>\n",
       "      <td>NaN</td>\n",
       "      <td>NaN</td>\n",
       "      <td>NaN</td>\n",
       "      <td>NaN</td>\n",
       "      <td>NaN</td>\n",
       "      <td>44313,44306,44325,44601,44805,44004,45701,4412...</td>\n",
       "      <td>web_view_url:https://IWillVote.com/OH</td>\n",
       "    </tr>\n",
       "    <tr>\n",
       "      <td>3</td>\n",
       "      <td>3</td>\n",
       "      <td>64d906646b616c034c91b69b9e7851944844eb456dd203...</td>\n",
       "      <td>https://www.snap.com/political-ads/asset/e56c0...</td>\n",
       "      <td>56</td>\n",
       "      <td>11770</td>\n",
       "      <td>2018/09/28 23:10:14Z</td>\n",
       "      <td>2018/10/17 02:00:00Z</td>\n",
       "      <td>Chong and Koster</td>\n",
       "      <td>1640 Rhode Island Ave. NW, Suite 600,Washingto...</td>\n",
       "      <td>NaN</td>\n",
       "      <td>...</td>\n",
       "      <td>NaN</td>\n",
       "      <td>NaN</td>\n",
       "      <td>Provided by Advertiser</td>\n",
       "      <td>NaN</td>\n",
       "      <td>NaN</td>\n",
       "      <td>Marital Status (Single)</td>\n",
       "      <td>NaN</td>\n",
       "      <td>NaN</td>\n",
       "      <td>NaN</td>\n",
       "      <td>web_view_url:https://www.voterparticipation.or...</td>\n",
       "    </tr>\n",
       "    <tr>\n",
       "      <td>4</td>\n",
       "      <td>4</td>\n",
       "      <td>4a090b72334ceabe7779ffe261a518b6f182e3fde4337e...</td>\n",
       "      <td>https://www.snap.com/political-ads/asset/8a8cb...</td>\n",
       "      <td>255</td>\n",
       "      <td>142929</td>\n",
       "      <td>2018/12/15 15:12:18Z</td>\n",
       "      <td>2018/12/21 15:11:41Z</td>\n",
       "      <td>Luton Borough Council</td>\n",
       "      <td>36 Golden Square,London,w1f 9jx,GB</td>\n",
       "      <td>NaN</td>\n",
       "      <td>...</td>\n",
       "      <td>NaN</td>\n",
       "      <td>NaN</td>\n",
       "      <td>Provided by Advertiser</td>\n",
       "      <td>NaN</td>\n",
       "      <td>NaN</td>\n",
       "      <td>NaN</td>\n",
       "      <td>NaN</td>\n",
       "      <td>NaN</td>\n",
       "      <td>NaN</td>\n",
       "      <td>web_view_url:https://vimeo.com/305748063</td>\n",
       "    </tr>\n",
       "  </tbody>\n",
       "</table>\n",
       "<p>5 rows × 28 columns</p>\n",
       "</div>"
      ],
      "text/plain": [
       "   index                                               ADID  \\\n",
       "0      0  68189125240c16e3dcec398a7b4e040e74621ccf11df25...   \n",
       "1      1  3542d40ba9fb0f0aa52889b03ea4a7db64ee4a3687aa6e...   \n",
       "2      2  6d1eb1af8c01a43def7b695fd19f2c43fa6625d126a063...   \n",
       "3      3  64d906646b616c034c91b69b9e7851944844eb456dd203...   \n",
       "4      4  4a090b72334ceabe7779ffe261a518b6f182e3fde4337e...   \n",
       "\n",
       "                                         CreativeUrl  Spend  Impressions  \\\n",
       "0  https://www.snap.com/political-ads/asset/b2d0c...      2         1301   \n",
       "1  https://www.snap.com/political-ads/asset/bc5a0...    143        49094   \n",
       "2  https://www.snap.com/political-ads/asset/d9367...   1913       886571   \n",
       "3  https://www.snap.com/political-ads/asset/e56c0...     56        11770   \n",
       "4  https://www.snap.com/political-ads/asset/8a8cb...    255       142929   \n",
       "\n",
       "              StartDate               EndDate       OrganizationName  \\\n",
       "0  2018/08/22 15:00:40Z  2018/09/09 12:30:23Z          Context Media   \n",
       "1  2018/09/12 10:01:00Z  2018/09/15 17:59:00Z  Congressman Pete King   \n",
       "2  2018/10/21 22:19:57Z  2018/11/05 23:17:28Z  Ohio Democratic Party   \n",
       "3  2018/09/28 23:10:14Z  2018/10/17 02:00:00Z       Chong and Koster   \n",
       "4  2018/12/15 15:12:18Z  2018/12/21 15:11:41Z  Luton Borough Council   \n",
       "\n",
       "                                      BillingAddress  \\\n",
       "0             Västra Norrlandsgatan 7 ,UMEÅ,90327,SE   \n",
       "1                                                 US   \n",
       "2                                                 US   \n",
       "3  1640 Rhode Island Ave. NW, Suite 600,Washingto...   \n",
       "4                 36 Golden Square,London,w1f 9jx,GB   \n",
       "\n",
       "  CandidateBallotInformation  ...                                Interests  \\\n",
       "0                        NaN  ...                                      NaN   \n",
       "1                        NaN  ...  Political News Watchers,ZZ_Deprecated_1   \n",
       "2                        NaN  ...                                      NaN   \n",
       "3                        NaN  ...                                      NaN   \n",
       "4                        NaN  ...                                      NaN   \n",
       "\n",
       "  OsType                Segments LocationType Language  \\\n",
       "0    NaN  Provided by Advertiser          NaN       sv   \n",
       "1    NaN  Provided by Advertiser          NaN      NaN   \n",
       "2    NaN                     NaN          NaN      NaN   \n",
       "3    NaN  Provided by Advertiser          NaN      NaN   \n",
       "4    NaN  Provided by Advertiser          NaN      NaN   \n",
       "\n",
       "      AdvancedDemographics  Targeting Connection Type Targeting Carrier (ISP)  \\\n",
       "0                      NaN                        NaN                     NaN   \n",
       "1                      NaN                        NaN                     NaN   \n",
       "2                      NaN                        NaN                     NaN   \n",
       "3  Marital Status (Single)                        NaN                     NaN   \n",
       "4                      NaN                        NaN                     NaN   \n",
       "\n",
       "                         Targeting Geo - Postal Code  \\\n",
       "0                                                NaN   \n",
       "1  11701,11702,11706,11705,11714,11715,11716,1171...   \n",
       "2  44313,44306,44325,44601,44805,44004,45701,4412...   \n",
       "3                                                NaN   \n",
       "4                                                NaN   \n",
       "\n",
       "                                  CreativeProperties  \n",
       "0  web_view_url:http://www.socialdemokraterna.nu/...  \n",
       "1  web_view_url:http://peteking.com/2018campaignf...  \n",
       "2              web_view_url:https://IWillVote.com/OH  \n",
       "3  web_view_url:https://www.voterparticipation.or...  \n",
       "4           web_view_url:https://vimeo.com/305748063  \n",
       "\n",
       "[5 rows x 28 columns]"
      ]
     },
     "execution_count": 3,
     "metadata": {},
     "output_type": "execute_result"
    }
   ],
   "source": [
    "# import the two csv file and add them into one dataframe\n",
    "\n",
    "# import the advertisement file of 2018\n",
    "fp_2018 = os.path.join('data', 'PoliticalAds_2018.csv')\n",
    "ads_2018 = pd.read_csv(fp_2018)\n",
    "\n",
    "# import the advertisement file of 2019\n",
    "fp_2019 = os.path.join('data', 'PoliticalAds_2019.csv')\n",
    "ads_2019 = pd.read_csv(fp_2019)\n",
    "\n",
    "# merge two table together and reset the index\n",
    "ads = pd.concat([ads_2018,ads_2019]).reset_index()\n",
    "\n",
    "# print some basic information of the table\n",
    "print(\"ads_2018: \" + str(ads_2018.shape), \"ads_2019: \" + str(ads_2019.shape), \"combined: \" + str(ads.shape))\n",
    "\n",
    "ads.head()"
   ]
  },
  {
   "cell_type": "code",
   "execution_count": 4,
   "metadata": {},
   "outputs": [
    {
     "data": {
      "text/plain": [
       "index                            int64\n",
       "ADID                            object\n",
       "CreativeUrl                     object\n",
       "Spend                            int64\n",
       "Impressions                      int64\n",
       "StartDate                       object\n",
       "EndDate                         object\n",
       "OrganizationName                object\n",
       "BillingAddress                  object\n",
       "CandidateBallotInformation      object\n",
       "PayingAdvertiserName            object\n",
       "Gender                          object\n",
       "AgeBracket                      object\n",
       "CountryCode                     object\n",
       "RegionID                        object\n",
       "ElectoralDistrictID             object\n",
       "LatLongRad                     float64\n",
       "MetroID                         object\n",
       "Interests                       object\n",
       "OsType                          object\n",
       "Segments                        object\n",
       "LocationType                    object\n",
       "Language                        object\n",
       "AdvancedDemographics            object\n",
       "Targeting Connection Type      float64\n",
       "Targeting Carrier (ISP)        float64\n",
       "Targeting Geo - Postal Code     object\n",
       "CreativeProperties              object\n",
       "dtype: object"
      ]
     },
     "execution_count": 4,
     "metadata": {},
     "output_type": "execute_result"
    }
   ],
   "source": [
    "# check the dtype of each column\n",
    "ads.dtypes"
   ]
  },
  {
   "cell_type": "code",
   "execution_count": 5,
   "metadata": {},
   "outputs": [
    {
     "data": {
      "text/plain": [
       "index                             0\n",
       "ADID                              0\n",
       "CreativeUrl                       0\n",
       "Spend                             0\n",
       "Impressions                       0\n",
       "StartDate                         0\n",
       "EndDate                         654\n",
       "OrganizationName                  0\n",
       "BillingAddress                    0\n",
       "CandidateBallotInformation     3071\n",
       "PayingAdvertiserName              0\n",
       "Gender                         2967\n",
       "AgeBracket                      274\n",
       "CountryCode                       0\n",
       "RegionID                       2287\n",
       "ElectoralDistrictID            3224\n",
       "LatLongRad                     3289\n",
       "MetroID                        3111\n",
       "Interests                      2508\n",
       "OsType                         3268\n",
       "Segments                       1110\n",
       "LocationType                   3271\n",
       "Language                       2384\n",
       "AdvancedDemographics           3195\n",
       "Targeting Connection Type      3289\n",
       "Targeting Carrier (ISP)        3289\n",
       "Targeting Geo - Postal Code    2890\n",
       "CreativeProperties              643\n",
       "dtype: int64"
      ]
     },
     "execution_count": 5,
     "metadata": {},
     "output_type": "execute_result"
    }
   ],
   "source": [
    "# check the number of null values in each column\n",
    "ads.isnull().sum()"
   ]
  },
  {
   "cell_type": "markdown",
   "metadata": {},
   "source": [
    "### `Cleaning` : StartDate and EndDate Processing\n",
    "We notice that the StartDate and EndDate contains a letter \"Z\" at the end. After doing some research, we found out that the \"Z\" here stands for Coordinated Universal Time(UTC). It is the primary time standard taht the world regulates clocks and time. UTC is not adjusted for daylight saving time."
   ]
  },
  {
   "cell_type": "code",
   "execution_count": 6,
   "metadata": {},
   "outputs": [
    {
     "data": {
      "text/plain": [
       "StartDate    datetime64[ns, UTC]\n",
       "EndDate      datetime64[ns, UTC]\n",
       "dtype: object"
      ]
     },
     "execution_count": 6,
     "metadata": {},
     "output_type": "execute_result"
    }
   ],
   "source": [
    "# convert the 'start date' and 'end date' columns into datetime type\n",
    "ads['StartDate'] = pd.to_datetime(ads['StartDate'])#.dt.tz_convert('US/Central'))\n",
    "ads['EndDate'] = pd.to_datetime(ads['EndDate'])#.dt.tz_convert('US/Central'))\n",
    "ads.dtypes.loc[[\"StartDate\", \"EndDate\"]]"
   ]
  },
  {
   "cell_type": "markdown",
   "metadata": {},
   "source": [
    "This is what the StartDate and EndDate columns look like after transforming into datetime object."
   ]
  },
  {
   "cell_type": "code",
   "execution_count": 7,
   "metadata": {},
   "outputs": [
    {
     "data": {
      "text/html": [
       "<div>\n",
       "<style scoped>\n",
       "    .dataframe tbody tr th:only-of-type {\n",
       "        vertical-align: middle;\n",
       "    }\n",
       "\n",
       "    .dataframe tbody tr th {\n",
       "        vertical-align: top;\n",
       "    }\n",
       "\n",
       "    .dataframe thead th {\n",
       "        text-align: right;\n",
       "    }\n",
       "</style>\n",
       "<table border=\"1\" class=\"dataframe\">\n",
       "  <thead>\n",
       "    <tr style=\"text-align: right;\">\n",
       "      <th></th>\n",
       "      <th>StartDate</th>\n",
       "      <th>EndDate</th>\n",
       "    </tr>\n",
       "  </thead>\n",
       "  <tbody>\n",
       "    <tr>\n",
       "      <td>0</td>\n",
       "      <td>2018-08-22 15:00:40+00:00</td>\n",
       "      <td>2018-09-09 12:30:23+00:00</td>\n",
       "    </tr>\n",
       "    <tr>\n",
       "      <td>1</td>\n",
       "      <td>2018-09-12 10:01:00+00:00</td>\n",
       "      <td>2018-09-15 17:59:00+00:00</td>\n",
       "    </tr>\n",
       "    <tr>\n",
       "      <td>2</td>\n",
       "      <td>2018-10-21 22:19:57+00:00</td>\n",
       "      <td>2018-11-05 23:17:28+00:00</td>\n",
       "    </tr>\n",
       "    <tr>\n",
       "      <td>3</td>\n",
       "      <td>2018-09-28 23:10:14+00:00</td>\n",
       "      <td>2018-10-17 02:00:00+00:00</td>\n",
       "    </tr>\n",
       "    <tr>\n",
       "      <td>4</td>\n",
       "      <td>2018-12-15 15:12:18+00:00</td>\n",
       "      <td>2018-12-21 15:11:41+00:00</td>\n",
       "    </tr>\n",
       "  </tbody>\n",
       "</table>\n",
       "</div>"
      ],
      "text/plain": [
       "                  StartDate                   EndDate\n",
       "0 2018-08-22 15:00:40+00:00 2018-09-09 12:30:23+00:00\n",
       "1 2018-09-12 10:01:00+00:00 2018-09-15 17:59:00+00:00\n",
       "2 2018-10-21 22:19:57+00:00 2018-11-05 23:17:28+00:00\n",
       "3 2018-09-28 23:10:14+00:00 2018-10-17 02:00:00+00:00\n",
       "4 2018-12-15 15:12:18+00:00 2018-12-21 15:11:41+00:00"
      ]
     },
     "execution_count": 7,
     "metadata": {},
     "output_type": "execute_result"
    }
   ],
   "source": [
    "ads[[\"StartDate\", \"EndDate\"]].head()"
   ]
  },
  {
   "cell_type": "markdown",
   "metadata": {},
   "source": [
    "Also, we will drop the unnecessary columns. In this case, we don't really need the index, so we drop it."
   ]
  },
  {
   "cell_type": "code",
   "execution_count": 8,
   "metadata": {},
   "outputs": [],
   "source": [
    "ads = ads.drop('index', axis = 1)"
   ]
  },
  {
   "cell_type": "markdown",
   "metadata": {},
   "source": [
    "### `Univariate` and `Aggregate`"
   ]
  },
  {
   "cell_type": "code",
   "execution_count": 9,
   "metadata": {},
   "outputs": [],
   "source": [
    "# define a function that use group by to find the top 5 most common values\n",
    "def most_prevalent(df, column_name):\n",
    "    common = df.groupby(column_name).size().sort_values(ascending = False)[:5]\n",
    "    return common"
   ]
  },
  {
   "cell_type": "code",
   "execution_count": 10,
   "metadata": {},
   "outputs": [
    {
     "data": {
      "text/plain": [
       "Text(0.5, 1.0, 'Top 5 most prevalent organization in 2018 and 2019')"
      ]
     },
     "execution_count": 10,
     "metadata": {},
     "output_type": "execute_result"
    },
    {
     "data": {
      "image/png": "[encoded data removed]",
      "text/plain": [
       "<Figure size 432x288 with 1 Axes>"
      ]
     },
     "metadata": {
      "image/png": {
       "height": 277,
       "width": 477
      },
      "needs_background": "light"
     },
     "output_type": "display_data"
    }
   ],
   "source": [
    "# find the top 5 of most prevalent organization\n",
    "most_common_org = most_prevalent(ads, \"OrganizationName\")\n",
    "sns.barplot(x = most_common_org.values, y = most_common_org.index)\n",
    "plt.ylabel(\"Organization Name\")\n",
    "plt.xlabel(\"Count of the organization\")\n",
    "plt.title(\"Top 5 most prevalent organization in 2018 and 2019\")"
   ]
  },
  {
   "cell_type": "code",
   "execution_count": 11,
   "metadata": {
    "scrolled": true
   },
   "outputs": [
    {
     "data": {
      "text/plain": [
       "Text(0.5, 1.0, 'Top 5 most prevalent Advertiser in 2018 and 2019')"
      ]
     },
     "execution_count": 11,
     "metadata": {},
     "output_type": "execute_result"
    },
    {
     "data": {
      "image/png": "[encoded data removed]",
      "text/plain": [
       "<Figure size 432x288 with 1 Axes>"
      ]
     },
     "metadata": {
      "image/png": {
       "height": 277,
       "width": 500
      },
      "needs_background": "light"
     },
     "output_type": "display_data"
    }
   ],
   "source": [
    "# find the top 5 of most prevalent paying advertiser\n",
    "most_common_advertiser = most_prevalent(ads, \"PayingAdvertiserName\")\n",
    "sns.barplot(x = most_common_advertiser.values, y = most_common_advertiser.index)\n",
    "plt.ylabel(\"Advertiser Name\")\n",
    "plt.xlabel(\"Count of the Advertiser\")\n",
    "plt.title(\"Top 5 most prevalent Advertiser in 2018 and 2019\")"
   ]
  },
  {
   "cell_type": "markdown",
   "metadata": {},
   "source": [
    "### `Univariate` and `Bivariate`\n",
    "#### EDA: examining the data \n",
    "Since we still don't know a lot about this dataset. Let's do some general exploration of this snapchat dataset by calculating important statistics and plotting. This section will include:\n",
    "* calculating correlation\n",
    "* univariate analysis through histogram and calculation of statistics"
   ]
  },
  {
   "cell_type": "markdown",
   "metadata": {},
   "source": [
    "Since we are interested in finding the characteristics of high and low impressions, we can plot the correlation to see which quantitative variable has high correlation with impressions."
   ]
  },
  {
   "cell_type": "code",
   "execution_count": 12,
   "metadata": {},
   "outputs": [
    {
     "data": {
      "text/html": [
       "<div>\n",
       "<style scoped>\n",
       "    .dataframe tbody tr th:only-of-type {\n",
       "        vertical-align: middle;\n",
       "    }\n",
       "\n",
       "    .dataframe tbody tr th {\n",
       "        vertical-align: top;\n",
       "    }\n",
       "\n",
       "    .dataframe thead th {\n",
       "        text-align: right;\n",
       "    }\n",
       "</style>\n",
       "<table border=\"1\" class=\"dataframe\">\n",
       "  <thead>\n",
       "    <tr style=\"text-align: right;\">\n",
       "      <th></th>\n",
       "      <th>Spend</th>\n",
       "      <th>Impressions</th>\n",
       "      <th>LatLongRad</th>\n",
       "      <th>Targeting Connection Type</th>\n",
       "      <th>Targeting Carrier (ISP)</th>\n",
       "    </tr>\n",
       "  </thead>\n",
       "  <tbody>\n",
       "    <tr>\n",
       "      <td>Spend</td>\n",
       "      <td>1.000000</td>\n",
       "      <td>0.834594</td>\n",
       "      <td>NaN</td>\n",
       "      <td>NaN</td>\n",
       "      <td>NaN</td>\n",
       "    </tr>\n",
       "    <tr>\n",
       "      <td>Impressions</td>\n",
       "      <td>0.834594</td>\n",
       "      <td>1.000000</td>\n",
       "      <td>NaN</td>\n",
       "      <td>NaN</td>\n",
       "      <td>NaN</td>\n",
       "    </tr>\n",
       "    <tr>\n",
       "      <td>LatLongRad</td>\n",
       "      <td>NaN</td>\n",
       "      <td>NaN</td>\n",
       "      <td>NaN</td>\n",
       "      <td>NaN</td>\n",
       "      <td>NaN</td>\n",
       "    </tr>\n",
       "    <tr>\n",
       "      <td>Targeting Connection Type</td>\n",
       "      <td>NaN</td>\n",
       "      <td>NaN</td>\n",
       "      <td>NaN</td>\n",
       "      <td>NaN</td>\n",
       "      <td>NaN</td>\n",
       "    </tr>\n",
       "    <tr>\n",
       "      <td>Targeting Carrier (ISP)</td>\n",
       "      <td>NaN</td>\n",
       "      <td>NaN</td>\n",
       "      <td>NaN</td>\n",
       "      <td>NaN</td>\n",
       "      <td>NaN</td>\n",
       "    </tr>\n",
       "  </tbody>\n",
       "</table>\n",
       "</div>"
      ],
      "text/plain": [
       "                              Spend  Impressions  LatLongRad  \\\n",
       "Spend                      1.000000     0.834594         NaN   \n",
       "Impressions                0.834594     1.000000         NaN   \n",
       "LatLongRad                      NaN          NaN         NaN   \n",
       "Targeting Connection Type       NaN          NaN         NaN   \n",
       "Targeting Carrier (ISP)         NaN          NaN         NaN   \n",
       "\n",
       "                           Targeting Connection Type  Targeting Carrier (ISP)  \n",
       "Spend                                            NaN                      NaN  \n",
       "Impressions                                      NaN                      NaN  \n",
       "LatLongRad                                       NaN                      NaN  \n",
       "Targeting Connection Type                        NaN                      NaN  \n",
       "Targeting Carrier (ISP)                          NaN                      NaN  "
      ]
     },
     "execution_count": 12,
     "metadata": {},
     "output_type": "execute_result"
    }
   ],
   "source": [
    "# correlation between columns \n",
    "# find out a large positive relationship between spend and impression\n",
    "ads.corr()"
   ]
  },
  {
   "cell_type": "markdown",
   "metadata": {},
   "source": [
    "from the correlation above, Impressions has a strong correlation with Spend."
   ]
  },
  {
   "cell_type": "markdown",
   "metadata": {},
   "source": [
    "Knowing Spend and impression have high correlation, we can plot the histogram for Impression and Spend to see the distritions and calculate some important statistics. (Univariate Analysis)"
   ]
  },
  {
   "cell_type": "code",
   "execution_count": 13,
   "metadata": {},
   "outputs": [
    {
     "data": {
      "text/plain": [
       "<matplotlib.axes._subplots.AxesSubplot at 0x1a25407650>"
      ]
     },
     "execution_count": 13,
     "metadata": {},
     "output_type": "execute_result"
    },
    {
     "data": {
      "image/png": "[encoded data removed]",
      "text/plain": [
       "<Figure size 864x288 with 2 Axes>"
      ]
     },
     "metadata": {
      "image/png": {
       "height": 277,
       "width": 730
      },
      "needs_background": "light"
     },
     "output_type": "display_data"
    }
   ],
   "source": [
    "# univariate analysis on impressions \n",
    "plt.subplots(1,2, figsize = (12, 4))\n",
    "plt.subplot(1,2,1)\n",
    "ads['Impressions'].hist()\n",
    "plt.title(\"Distribution of Impressions\")\n",
    "plt.xlabel(\"Impressions\")\n",
    "plt.ylabel(\"count\")\n",
    "\n",
    "# univariate analysis on spend\n",
    "plt.subplot(1,2,2)\n",
    "plt.title(\"Distribution of Spend\")\n",
    "plt.xlabel(\"Spend\")\n",
    "plt.ylabel(\"count\")\n",
    "ads['Spend'].hist()"
   ]
  },
  {
   "cell_type": "markdown",
   "metadata": {},
   "source": [
    "Based on the histogram above, Impressions and Spend are very concentrated to the left. Notice that the range of x-axis is large. This is because there are actually data points in those range but the number is too few to be observed in this histogram. in addition, the data is right-skewed."
   ]
  },
  {
   "cell_type": "code",
   "execution_count": 14,
   "metadata": {},
   "outputs": [
    {
     "data": {
      "text/html": [
       "<div>\n",
       "<style scoped>\n",
       "    .dataframe tbody tr th:only-of-type {\n",
       "        vertical-align: middle;\n",
       "    }\n",
       "\n",
       "    .dataframe tbody tr th {\n",
       "        vertical-align: top;\n",
       "    }\n",
       "\n",
       "    .dataframe thead th {\n",
       "        text-align: right;\n",
       "    }\n",
       "</style>\n",
       "<table border=\"1\" class=\"dataframe\">\n",
       "  <thead>\n",
       "    <tr style=\"text-align: right;\">\n",
       "      <th></th>\n",
       "      <th>Spend</th>\n",
       "      <th>Impressions</th>\n",
       "    </tr>\n",
       "  </thead>\n",
       "  <tbody>\n",
       "    <tr>\n",
       "      <td>count</td>\n",
       "      <td>3289.000000</td>\n",
       "      <td>3.289000e+03</td>\n",
       "    </tr>\n",
       "    <tr>\n",
       "      <td>mean</td>\n",
       "      <td>1553.667680</td>\n",
       "      <td>6.671137e+05</td>\n",
       "    </tr>\n",
       "    <tr>\n",
       "      <td>std</td>\n",
       "      <td>9494.273048</td>\n",
       "      <td>3.855206e+06</td>\n",
       "    </tr>\n",
       "    <tr>\n",
       "      <td>min</td>\n",
       "      <td>0.000000</td>\n",
       "      <td>1.000000e+00</td>\n",
       "    </tr>\n",
       "    <tr>\n",
       "      <td>25%</td>\n",
       "      <td>41.000000</td>\n",
       "      <td>1.329400e+04</td>\n",
       "    </tr>\n",
       "    <tr>\n",
       "      <td>50%</td>\n",
       "      <td>186.000000</td>\n",
       "      <td>6.922800e+04</td>\n",
       "    </tr>\n",
       "    <tr>\n",
       "      <td>75%</td>\n",
       "      <td>797.000000</td>\n",
       "      <td>3.159950e+05</td>\n",
       "    </tr>\n",
       "    <tr>\n",
       "      <td>max</td>\n",
       "      <td>309348.000000</td>\n",
       "      <td>1.443530e+08</td>\n",
       "    </tr>\n",
       "  </tbody>\n",
       "</table>\n",
       "</div>"
      ],
      "text/plain": [
       "               Spend   Impressions\n",
       "count    3289.000000  3.289000e+03\n",
       "mean     1553.667680  6.671137e+05\n",
       "std      9494.273048  3.855206e+06\n",
       "min         0.000000  1.000000e+00\n",
       "25%        41.000000  1.329400e+04\n",
       "50%       186.000000  6.922800e+04\n",
       "75%       797.000000  3.159950e+05\n",
       "max    309348.000000  1.443530e+08"
      ]
     },
     "execution_count": 14,
     "metadata": {},
     "output_type": "execute_result"
    }
   ],
   "source": [
    "ads[[\"Spend\", \"Impressions\"]].describe()"
   ]
  },
  {
   "cell_type": "markdown",
   "metadata": {},
   "source": [
    "By obesrving the stats above, we notice that the mean and standard deviation for both Spend and Impressions are huge. Although most of the data are concentrated in a lower quartile, the outliers are casuing the mean and standard deviation to be large."
   ]
  },
  {
   "cell_type": "markdown",
   "metadata": {},
   "source": [
    "Knowing that Spend and Impressions have high correlation, let's plot the scatter plot to examine the relationship between these two variables."
   ]
  },
  {
   "cell_type": "code",
   "execution_count": 15,
   "metadata": {},
   "outputs": [
    {
     "data": {
      "text/plain": [
       "Text(0, 0.5, 'Impressions')"
      ]
     },
     "execution_count": 15,
     "metadata": {},
     "output_type": "execute_result"
    },
    {
     "data": {
      "image/png": "[encoded data removed]",
      "text/plain": [
       "<Figure size 432x288 with 1 Axes>"
      ]
     },
     "metadata": {
      "image/png": {
       "height": 272,
       "width": 394
      },
      "needs_background": "light"
     },
     "output_type": "display_data"
    }
   ],
   "source": [
    "# bivariate analysis on impressions \n",
    "ads.plot(x='Spend', y='Impressions',style='o', legend = False)\n",
    "plt.ylabel(\"Impressions\")"
   ]
  },
  {
   "cell_type": "markdown",
   "metadata": {},
   "source": [
    "We can actually see the that there is a positive correlation between Spend and Impression since when the spend goes up, the impressions also goes up. We also find out that most of the spend is under 50,000 dollars."
   ]
  },
  {
   "cell_type": "markdown",
   "metadata": {},
   "source": [
    "##### EDA: Ads with high and low impressions\n",
    "Right now, we are interested in the political ads that have high and low impressions. But first, we should clarify what we mean by high reach and low reach. Since there is a strong correlation between Spend and Impression, we decide to define \"reach\" with Impressions divided by Spend(this value will be named efficiency). We feel that measuring the amount of views per dollar is a more appropriate measurement to define high and low reach rather than only using impressions. \n",
    "\n",
    "Secondly, we should also define the criteria for \"low\" and \"high\". Here, we decide to define low by any number in efficicency that is lower than 25% percentile and \"high\" as any number that is greater than 75% percentile. The main reason is that the mean statistic is an inaccurate midpoint since the distributions for Impression and Spend are right-skewed. Therefore, we feel that using the median is more appropriate."
   ]
  },
  {
   "cell_type": "markdown",
   "metadata": {},
   "source": [
    "In order to calculate efficiency, we first replace Spend that has 0 with 1 to avoid zero-division error. Then, we calculate and plot(kde) the efficiency."
   ]
  },
  {
   "cell_type": "code",
   "execution_count": 16,
   "metadata": {},
   "outputs": [
    {
     "data": {
      "text/plain": [
       "Text(0.5, 1.0, 'KDE for dfficiency')"
      ]
     },
     "execution_count": 16,
     "metadata": {},
     "output_type": "execute_result"
    },
    {
     "data": {
      "image/png": "[encoded data removed]",
      "text/plain": [
       "<Figure size 432x288 with 1 Axes>"
      ]
     },
     "metadata": {
      "image/png": {
       "height": 277,
       "width": 402
      },
      "needs_background": "light"
     },
     "output_type": "display_data"
    }
   ],
   "source": [
    "# there are 12 outliners that have spend == 0, replace them by 1 so that they will not affect the data\n",
    "ads['Spend'] = ads['Spend'].replace(0,1)\n",
    "\n",
    "# find out high efficient ads\n",
    "# defined efficient as impression/spend\n",
    "ads_eff = ads.copy()\n",
    "ads_eff['Efficiency'] = ads_eff['Impressions']/ads_eff['Spend']\n",
    "\n",
    "# plot the distribution of the efficiency (univariate for efficiency and bivariate for spend & impression)\n",
    "sns.distplot(ads_eff['Efficiency'])\n",
    "plt.title(\"KDE for dfficiency\")"
   ]
  },
  {
   "cell_type": "code",
   "execution_count": 17,
   "metadata": {},
   "outputs": [
    {
     "data": {
      "text/plain": [
       "(468.748894938678, 414.0453708732057)"
      ]
     },
     "execution_count": 17,
     "metadata": {},
     "output_type": "execute_result"
    }
   ],
   "source": [
    "# some basic information of the new column\n",
    "mean = ads_eff['Efficiency'].mean()\n",
    "std = ads_eff['Efficiency'].std()\n",
    "(mean,std)"
   ]
  },
  {
   "cell_type": "markdown",
   "metadata": {},
   "source": [
    "The kde plot for kde resemble the shape of normal distribution, and the mean and standard deviation look for reasonable compared to the histograms of Impressions and Spend."
   ]
  },
  {
   "cell_type": "code",
   "execution_count": null,
   "metadata": {},
   "outputs": [],
   "source": [
    "The kde plot for kde resemble the shape of normal distribution, and the mean and standard deviation look for reasonable compared to the histograms of Impressions and Spend."
   ]
  },
  {
   "cell_type": "markdown",
   "metadata": {},
   "source": [
    "Now, we seperate the dataset into high efficiency and low efficiency"
   ]
  },
  {
   "cell_type": "code",
   "execution_count": 18,
   "metadata": {},
   "outputs": [],
   "source": [
    "ads_stat = ads_eff.describe()[\"Efficiency\"]\n",
    "Q1 = ads_stat.loc[\"25%\"]\n",
    "Q3 = ads_stat.loc[\"75%\"]\n",
    "high_eff = ads_eff[ads_eff[\"Efficiency\"] > Q3]\n",
    "low_eff = ads_eff[ads_eff[\"Efficiency\"] < Q1]"
   ]
  },
  {
   "cell_type": "code",
   "execution_count": 19,
   "metadata": {},
   "outputs": [
    {
     "data": {
      "text/plain": [
       "(822,)"
      ]
     },
     "execution_count": 19,
     "metadata": {},
     "output_type": "execute_result"
    }
   ],
   "source": [
    "# check the number of rows that are considered as high efficiency\n",
    "high_eff[\"Efficiency\"].shape"
   ]
  },
  {
   "cell_type": "code",
   "execution_count": 20,
   "metadata": {},
   "outputs": [
    {
     "data": {
      "text/plain": [
       "(822,)"
      ]
     },
     "execution_count": 20,
     "metadata": {},
     "output_type": "execute_result"
    }
   ],
   "source": [
    "# check the number of rows that are considered as low efficiency\n",
    "low_eff[\"Efficiency\"].shape"
   ]
  },
  {
   "cell_type": "code",
   "execution_count": 21,
   "metadata": {},
   "outputs": [
    {
     "data": {
      "text/plain": [
       "Text(0, 0.5, 'Density')"
      ]
     },
     "execution_count": 21,
     "metadata": {},
     "output_type": "execute_result"
    },
    {
     "data": {
      "image/png": "[encoded data removed]",
      "text/plain": [
       "<Figure size 1008x432 with 2 Axes>"
      ]
     },
     "metadata": {
      "image/png": {
       "height": 386,
       "width": 851
      },
      "needs_background": "light"
     },
     "output_type": "display_data"
    }
   ],
   "source": [
    "plt.subplots(1,2, figsize = (14, 6))\n",
    "plt.subplot(1,2,1)\n",
    "sns.distplot(high_eff[\"Efficiency\"])\n",
    "plt.title(\"High_efficiency Distribution\")\n",
    "plt.ylabel(\"Density\")\n",
    "plt.subplot(1,2,2)\n",
    "sns.distplot(low_eff[\"Efficiency\"])\n",
    "plt.title(\"low_efficiency Distribution\")\n",
    "plt.ylabel(\"Density\")"
   ]
  },
  {
   "cell_type": "markdown",
   "metadata": {},
   "source": [
    "From the graphs above, we see that there are interesting difference between the two distributions. Perhaps this difference could be explained by the characteristics of high_efficiency and low_efficiency. We will resume back to explain this difference later in the section. (HELP!!!!)"
   ]
  },
  {
   "cell_type": "markdown",
   "metadata": {},
   "source": [
    "### Assessment of Missingness"
   ]
  },
  {
   "cell_type": "markdown",
   "metadata": {},
   "source": [
    "##### EDA: Finding out characteristics of low and high efficiency through nan values\n",
    "\n",
    "we decide to calculate the difference between the proportion of null values of low and high efficiency to infer the charactersitics for both dataset. One intuition is that null values are meaningful in some columns. For instance, the null value in Gender means that the Ads is targeting both gender instead of a specific one. Therefore, taking the difference between two null proportions can give us insights on the general characteristics for high efficiency and low efficiency Ads. Even if the null value are not meaninful, the distribution of null value can still be a criteria to identify characteristics.\n",
    "\n",
    "If the absolute difference between the two proportions are greater than or equal to 0.1, then we would say the number is meaningful enough to reveal the characteristic."
   ]
  },
  {
   "cell_type": "code",
   "execution_count": 22,
   "metadata": {},
   "outputs": [
    {
     "data": {
      "text/plain": [
       "ADID                           0.000000\n",
       "CreativeUrl                    0.000000\n",
       "Spend                          0.000000\n",
       "Impressions                    0.000000\n",
       "StartDate                      0.000000\n",
       "EndDate                       -0.041363\n",
       "OrganizationName               0.000000\n",
       "BillingAddress                 0.000000\n",
       "CandidateBallotInformation     0.092457\n",
       "PayingAdvertiserName           0.000000\n",
       "Gender                        -0.043796\n",
       "AgeBracket                     0.085158\n",
       "CountryCode                    0.000000\n",
       "RegionID                       0.085158\n",
       "ElectoralDistrictID            0.015815\n",
       "LatLongRad                     0.000000\n",
       "MetroID                        0.034063\n",
       "Interests                     -0.128954\n",
       "OsType                        -0.001217\n",
       "Segments                      -0.333333\n",
       "LocationType                  -0.006083\n",
       "Language                      -0.203163\n",
       "AdvancedDemographics           0.062044\n",
       "Targeting Connection Type      0.000000\n",
       "Targeting Carrier (ISP)        0.000000\n",
       "Targeting Geo - Postal Code    0.069343\n",
       "CreativeProperties             0.170316\n",
       "Efficiency                     0.000000\n",
       "dtype: float64"
      ]
     },
     "execution_count": 22,
     "metadata": {},
     "output_type": "execute_result"
    }
   ],
   "source": [
    "# difference in percentage of nans in two dataset\n",
    "high_nan = (high_eff.isnull().sum())/high_eff.shape[0]\n",
    "low_nan = (low_eff.isnull().sum())/low_eff.shape[0]\n",
    "diff_low_high = high_nan - low_nan\n",
    "diff_low_high"
   ]
  },
  {
   "cell_type": "markdown",
   "metadata": {},
   "source": [
    "##### small conclusion for the difference of  null proportions \n",
    "Based on the difference between two null distribution, we can infer that: \n",
    "\n",
    "\n",
    "* Segments: The high efficienxy data has LESS null value, which may imply that high impression data usually won't employ segments criteria in Ads while low impression usually would apply such criteria.\n",
    "* Language: The high efficiency data has LESS null value, which may imply that high efficiency data usually employ language criteria in Ads while low efficiency data usually would apply such criteria.\n",
    "* Interests: The high efficiency dat has LESS null value, which may imply that the high impression data usually target a specific group of people while low efficiency data targets all group of people.\n",
    "* CreativeProperties: The high impression data has MORE null value, which may imply that high impression data tend to NOT have a website to call for action while low efficiency data usually have the website."
   ]
  },
  {
   "cell_type": "markdown",
   "metadata": {},
   "source": [
    "##### Evaluating Missingness using Permutation test\n",
    "The difference of null proportion series offer some directions to assess whether or not the missingness and non-missingness of a particular column with respect to efficiency come from different or the same distribution. Therefore, we can run a permutation test for both dataset to decide whether or not a specific column is Missing Completely At Random(MCAR), Missing At Random(MAR), or Not Missing At Random(NMAR) with respect to efficiency.\n",
    "* Permutation test will be perform on Segments and CreativeProperties since the missingness in those two columns are not meaningful.\n",
    "\n",
    "We will set the significance level to 0.05. Any p-value less than the significance level will reject the null hypothesis and vice versa.\n",
    "\n",
    "#### Null Hypothesis: The missingness and non-missingness with respect to [a specific column] come from the SAME distribution.\n",
    "\n",
    "#### Alternative hypothesis: The missingness and non-missingness with respect to [a specific column] come from DIFFERENT distribution."
   ]
  },
  {
   "cell_type": "code",
   "execution_count": 23,
   "metadata": {},
   "outputs": [],
   "source": [
    "# define a function for permutation test\n",
    "\n",
    "def permutation_test(x,y,z):\n",
    "    data = z[[x,y]]\n",
    "    data_now = data.assign(**{y:data[y].isnull()})\n",
    "    \n",
    "    # diff of means\n",
    "    data_ori = data.assign(**{y:data[y].isnull()}).groupby(y)[x].mean()\n",
    "    truediff_mean = abs(data_ori.diff()[1])\n",
    "    \n",
    "    N = 1000\n",
    "    answer = []\n",
    "\n",
    "    for _ in range(N):\n",
    "        # shuffle the data\n",
    "        shuffled = data_now[x].sample(replace=False, frac=1).reset_index(drop=True)\n",
    "        # put them in a table\n",
    "        original_and_shuffled = data_now.assign(**{x: shuffled})\n",
    "        # compute the group differences (test statistic!)\n",
    "        ads_now = original_and_shuffled.groupby(y)[x].mean()\n",
    "        diff_mean = abs(ads_now.diff()[1])\n",
    "        # add it to the list of results\n",
    "        answer.append(diff_mean)\n",
    "\n",
    "    # plot the graph\n",
    "    pd.Series(answer).plot(kind='hist', density=True)\n",
    "    plt.scatter(truediff_mean, 0, color='red', s=40)\n",
    "    \n",
    "    # p val\n",
    "    p_val = np.count_nonzero(truediff_mean <= answer) / N\n",
    "    return \"p-value: \" + str(p_val)"
   ]
  },
  {
   "cell_type": "code",
   "execution_count": 24,
   "metadata": {},
   "outputs": [
    {
     "data": {
      "text/plain": [
       "'p-value: 0.348'"
      ]
     },
     "execution_count": 24,
     "metadata": {},
     "output_type": "execute_result"
    },
    {
     "data": {
      "image/png": "[encoded data removed]",
      "text/plain": [
       "<Figure size 432x288 with 1 Axes>"
      ]
     },
     "metadata": {
      "image/png": {
       "height": 251,
       "width": 398
      },
      "needs_background": "light"
     },
     "output_type": "display_data"
    }
   ],
   "source": [
    "#efficiency vs. Segments, high efficiency data\n",
    "permutation_test('Efficiency','Segments',high_eff)"
   ]
  },
  {
   "cell_type": "markdown",
   "metadata": {},
   "source": [
    "Since p-value > 0.05, we failed to reject the null hypothesis."
   ]
  },
  {
   "cell_type": "code",
   "execution_count": 25,
   "metadata": {},
   "outputs": [
    {
     "data": {
      "text/plain": [
       "'p-value: 0.0'"
      ]
     },
     "execution_count": 25,
     "metadata": {},
     "output_type": "execute_result"
    },
    {
     "data": {
      "image/png": "[encoded data removed]",
      "text/plain": [
       "<Figure size 432x288 with 1 Axes>"
      ]
     },
     "metadata": {
      "image/png": {
       "height": 248,
       "width": 392
      },
      "needs_background": "light"
     },
     "output_type": "display_data"
    }
   ],
   "source": [
    "#efficiency vs. Segments, low efficiency data\n",
    "permutation_test('Efficiency','Segments',low_eff)"
   ]
  },
  {
   "cell_type": "markdown",
   "metadata": {},
   "source": [
    "Since p-value > 0.05, we failed to reject the null hypothesis."
   ]
  },
  {
   "cell_type": "code",
   "execution_count": 26,
   "metadata": {},
   "outputs": [
    {
     "data": {
      "text/plain": [
       "'p-value: 0.0'"
      ]
     },
     "execution_count": 26,
     "metadata": {},
     "output_type": "execute_result"
    },
    {
     "data": {
      "image/png": "[encoded data removed]",
      "text/plain": [
       "<Figure size 432x288 with 1 Axes>"
      ]
     },
     "metadata": {
      "image/png": {
       "height": 248,
       "width": 396
      },
      "needs_background": "light"
     },
     "output_type": "display_data"
    }
   ],
   "source": [
    "#efficiency vs. CreativeProperties, low efficiency data\n",
    "permutation_test('Efficiency','CreativeProperties',low_eff)"
   ]
  },
  {
   "cell_type": "markdown",
   "metadata": {},
   "source": [
    "Since p-value > 0.05, we reject the null hypothesis."
   ]
  },
  {
   "cell_type": "markdown",
   "metadata": {},
   "source": [
    "##### Verification for the difference of null value distributions\n",
    "The permutation above only compute columns that have absolute value of the difference in null proportion column greater than 0.1. We decide to randomly choose a column that is less than 0.1. We choose to run a permutation test on EndDate, and we expect that the tests performed on two dataset would not reject the null hypothesis(i.e. non-missingness and missingness data with respect to efficiency come from the same distribution)"
   ]
  },
  {
   "cell_type": "code",
   "execution_count": 27,
   "metadata": {},
   "outputs": [
    {
     "data": {
      "text/plain": [
       "'p-value: 0.406'"
      ]
     },
     "execution_count": 27,
     "metadata": {},
     "output_type": "execute_result"
    },
    {
     "data": {
      "image/png": "[encoded data removed]",
      "text/plain": [
       "<Figure size 432x288 with 1 Axes>"
      ]
     },
     "metadata": {
      "image/png": {
       "height": 251,
       "width": 398
      },
      "needs_background": "light"
     },
     "output_type": "display_data"
    }
   ],
   "source": [
    "permutation_test('Efficiency','EndDate',high_eff)"
   ]
  },
  {
   "cell_type": "markdown",
   "metadata": {},
   "source": [
    "Since p-value > 0.05, we failed to reject the null hypothesis."
   ]
  },
  {
   "cell_type": "code",
   "execution_count": 28,
   "metadata": {},
   "outputs": [
    {
     "data": {
      "text/plain": [
       "'p-value: 0.062'"
      ]
     },
     "execution_count": 28,
     "metadata": {},
     "output_type": "execute_result"
    },
    {
     "data": {
      "image/png": "[encoded data removed]",
      "text/plain": [
       "<Figure size 432x288 with 1 Axes>"
      ]
     },
     "metadata": {
      "image/png": {
       "height": 248,
       "width": 392
      },
      "needs_background": "light"
     },
     "output_type": "display_data"
    }
   ],
   "source": [
    "permutation_test('Efficiency','EndDate',low_eff)"
   ]
  },
  {
   "cell_type": "markdown",
   "metadata": {},
   "source": [
    "Since p-value > 0.05, we failed to reject the null hypothesis."
   ]
  },
  {
   "cell_type": "markdown",
   "metadata": {},
   "source": [
    "##### Small conclusion for  permutation test\n",
    "\n",
    "High efficiency:\n",
    "* The missingness and non-missingness in Segments, CreativeProperties, and EndDate with respect to efficiency come from the same distribution. \n",
    "\n",
    "\n",
    "Low efficiency:\n",
    "* The missingness and non-missingness in Segments and CreativeProperties with respect to efficiency come from different distribution.\n",
    "* The missingness and non-missingness in EndDate with respect to efficiency come from the same distribution.\n",
    "\n",
    "We can conclude that the Missingness in Segments, CreativeProperties, and EndDate are Missing Completely At Random(MCAR) with respect to efficiency in high efficiency data. But for other permutation tests, we cannot ensure if the missingness is `Missing At Random (MAR)` or `Not Missing At Random (NMAR)`.\n",
    "\n",
    "On the one hand, take 'Segments' in 'Low Efficiency' dataset as an example. It might be `NMAR` because for those advertisements whic have low efficiency might be provided by small advertising companies. As small company, the advertisor does not want to provide clues that help their competitors to beat them since that might lead to the bankrupt of their company. Since if they provide their segments of audiences, there might be a risk that those files will be reveal. Thus, although they might do some segements on audiences, they will prefer not to mention those segements when giving the advertisement to snapchat. \n",
    "\n",
    "On the other hand, Segments and CreativeProperties are MAR in low efficiency dataset because Ads with low efficiency generally wants to recruit more audiences in order to increase their efficiency."
   ]
  },
  {
   "cell_type": "markdown",
   "metadata": {},
   "source": [
    "### Hypothesis test\n",
    "\n",
    "By looking into the 'Readme.txt', we find out that some of the NaN values have some special meanings. We choose 'Language' and 'Interests' column for future analysis since they share a common characteristic that the NaN in their column means target to the general public.\n",
    "We decide to start a hypothesis testing on these columns to find out will a specific target benefit to higher efficiency. \n",
    "\n",
    "#### Null Hypothesis: Specific target will not affect the efficiency\n",
    "#### Alt Hypothesis: Specific target will lead to higher efficiency\n"
   ]
  },
  {
   "cell_type": "code",
   "execution_count": 29,
   "metadata": {},
   "outputs": [
    {
     "data": {
      "text/plain": [
       "en       573\n",
       "fr        96\n",
       "nb        62\n",
       "nl        45\n",
       "da        33\n",
       "en,es     23\n",
       "de        22\n",
       "es        14\n",
       "ar        11\n",
       "nb,en      6\n",
       "nl,en      5\n",
       "sv         4\n",
       "fi         4\n",
       "ar,en      3\n",
       "de,en      2\n",
       "en,de      1\n",
       "es,en      1\n",
       "Name: Language, dtype: int64"
      ]
     },
     "execution_count": 29,
     "metadata": {},
     "output_type": "execute_result"
    }
   ],
   "source": [
    "# first do some exploration in Language column\n",
    "ads_eff['Language'].value_counts()"
   ]
  },
  {
   "cell_type": "markdown",
   "metadata": {},
   "source": [
    "We modify the 'Language' column so that it can be easily calculate when we do permutation test"
   ]
  },
  {
   "cell_type": "code",
   "execution_count": 30,
   "metadata": {
    "scrolled": true
   },
   "outputs": [
    {
     "data": {
      "text/plain": [
       "False    2384\n",
       "True      905\n",
       "Name: Language, dtype: int64"
      ]
     },
     "execution_count": 30,
     "metadata": {},
     "output_type": "execute_result"
    }
   ],
   "source": [
    "# assign True if the language have a specific target, else assign False\n",
    "func = lambda x: False if pd.isnull(x) else True\n",
    "ads_lan = ads_eff.assign(Language = ads_eff['Language'].apply(func))\n",
    "\n",
    "# check the value counts\n",
    "ads_lan['Language'].value_counts()"
   ]
  },
  {
   "cell_type": "markdown",
   "metadata": {},
   "source": [
    "Then we start the new permutation test on the 'Language' column. (Basically same test as the missingness permutation test)"
   ]
  },
  {
   "cell_type": "code",
   "execution_count": 31,
   "metadata": {},
   "outputs": [
    {
     "data": {
      "text/plain": [
       "0.0"
      ]
     },
     "execution_count": 31,
     "metadata": {},
     "output_type": "execute_result"
    },
    {
     "data": {
      "image/png": "[encoded data removed]",
      "text/plain": [
       "<Figure size 432x288 with 1 Axes>"
      ]
     },
     "metadata": {
      "image/png": {
       "height": 248,
       "width": 400
      },
      "needs_background": "light"
     },
     "output_type": "display_data"
    }
   ],
   "source": [
    "# permutation tests of diff mean\n",
    "data = ads_lan[['Efficiency','Language']]\n",
    "\n",
    "# diff of means in original dataset\n",
    "data_ori = data.groupby('Language')['Efficiency'].mean()\n",
    "truediff_mean = data_ori.diff()[1]\n",
    "\n",
    "N = 1000\n",
    "answer = []\n",
    "\n",
    "for _ in range(N):\n",
    "    # shuffle the data\n",
    "    shuffled = data['Efficiency'].sample(replace=False, frac=1).reset_index(drop=True)\n",
    "    # put them in a table\n",
    "    original_and_shuffled = data.assign(**{'Efficiency': shuffled})\n",
    "    # compute the group differences (test statistic!)\n",
    "    ads_now = original_and_shuffled.groupby('Language')['Efficiency'].mean()\n",
    "    diff_mean = ads_now.diff().sum()\n",
    "    # add it to the list of results\n",
    "    answer.append(diff_mean)\n",
    "    \n",
    "# plot the graph\n",
    "pd.Series(answer).plot(kind='hist', density=True)\n",
    "plt.scatter(truediff_mean, 0, color='red', s=40)\n",
    "\n",
    "# p val\n",
    "p_val = np.count_nonzero(truediff_mean <= answer) / N\n",
    "p_val"
   ]
  },
  {
   "cell_type": "markdown",
   "metadata": {},
   "source": [
    "We get a conclusion that the specific target of language will lead to a higher efficiency since we reject the null hypothesis with p-val equal to 0.0. \n",
    "To further verify that our conclusion is correct, we plot the distribution of two groups and also use ks-statistic permutation test"
   ]
  },
  {
   "cell_type": "code",
   "execution_count": 32,
   "metadata": {},
   "outputs": [
    {
     "data": {
      "text/plain": [
       "<matplotlib.axes._subplots.AxesSubplot at 0x1a27554750>"
      ]
     },
     "execution_count": 32,
     "metadata": {},
     "output_type": "execute_result"
    },
    {
     "data": {
      "image/png": "[encoded data removed]",
      "text/plain": [
       "<Figure size 432x288 with 1 Axes>"
      ]
     },
     "metadata": {
      "image/png": {
       "height": 261,
       "width": 401
      },
      "needs_background": "light"
     },
     "output_type": "display_data"
    }
   ],
   "source": [
    "# plot the data of two different groups (Having target vs. No target)\n",
    "working = ads_lan.copy()[[\"Efficiency\", 'Language']]\n",
    "True_cond = working.loc[working[\"Language\"] == True, \"Efficiency\"]\n",
    "False_cond = working.loc[working[\"Language\"] == False, \"Efficiency\"]\n",
    "sns.distplot(True_cond, hist = False)\n",
    "sns.distplot(False_cond, hist = False)"
   ]
  },
  {
   "cell_type": "markdown",
   "metadata": {},
   "source": [
    "The distribution looks different in distribution"
   ]
  },
  {
   "cell_type": "code",
   "execution_count": 33,
   "metadata": {},
   "outputs": [
    {
     "data": {
      "text/plain": [
       "0.0"
      ]
     },
     "execution_count": 33,
     "metadata": {},
     "output_type": "execute_result"
    },
    {
     "data": {
      "image/png": "[encoded data removed]",
      "text/plain": [
       "<Figure size 432x288 with 1 Axes>"
      ]
     },
     "metadata": {
      "image/png": {
       "height": 248,
       "width": 400
      },
      "needs_background": "light"
     },
     "output_type": "display_data"
    }
   ],
   "source": [
    "# permutation test using ks-statistic\n",
    "from scipy.stats import ks_2samp\n",
    "\n",
    "N = 1000\n",
    "data = ads_lan[['Efficiency','Language']]\n",
    "\n",
    "grps = data.groupby('Language')['Efficiency']\n",
    "origin = ks_2samp(grps.get_group(True), grps.get_group(False)).statistic\n",
    "ks_list = []\n",
    "\n",
    "for _ in range(N):\n",
    "    # shuffle the efficiency\n",
    "    shuffle_data = data['Efficiency'].sample(frac=1,replace=False).reset_index(drop=True)\n",
    "    # put them in a table\n",
    "    original_and_shuffled = data.assign(**{'Efficiency': shuffle_data})\n",
    "    # group by language\n",
    "    grps = original_and_shuffled.groupby('Language')['Efficiency']\n",
    "    # calculate the ks-statistic\n",
    "    ks = ks_2samp(grps.get_group(True), grps.get_group(False)).statistic\n",
    "    # add it into answer list\n",
    "    ks_list.append(ks)\n",
    "    \n",
    "# plot the graph\n",
    "pd.Series(answer).plot(kind='hist', density=True)\n",
    "plt.scatter(truediff_mean, 0, color='red', s=40)\n",
    "\n",
    "# p val\n",
    "p_val = np.count_nonzero(truediff_mean <= answer) / N\n",
    "p_val"
   ]
  },
  {
   "cell_type": "markdown",
   "metadata": {},
   "source": [
    "By using ks-statistic, we still get the same conclusion that having the specific target in language will lead to a higher efficiency by rejecting the null hypothesis with a p-val equals to 0.0"
   ]
  },
  {
   "cell_type": "markdown",
   "metadata": {},
   "source": [
    "We repeat the same progress on column 'Interests'"
   ]
  },
  {
   "cell_type": "code",
   "execution_count": 34,
   "metadata": {},
   "outputs": [
    {
     "data": {
      "text/plain": [
       "Green Living Enthusiasts,Hipsters & Trendsetters,Political News Watchers,Wellness & Healthy Lifestyle,Eco-Conscious Shoppers,TV Network Viewers (BBC America),TV Network Viewers (CNN),TV Network Viewers (Comedy Central),TV Network Viewers (MSNBC)                95\n",
       "Political News Watchers                                                                                                                                                                                                                                              29\n",
       "Advocates & Activists                                                                                                                                                                                                                                                28\n",
       "Soccer Enthusiasts                                                                                                                                                                                                                                                   21\n",
       "Latin Music Fans                                                                                                                                                                                                                                                     20\n",
       "                                                                                                                                                                                                                                                                     ..\n",
       "Green Living Enthusiasts,Outdoor & Nature Enthusiasts                                                                                                                                                                                                                 1\n",
       "Advocates & Activists,Arts & Culture Mavens,Bookworms & Avid Readers,Business News Watchers,Frequent Travelers,Investors & Entrepreneurs,Math & Science Enthusiasts,News Watchers,Philanthropists,Political News Watchers,Sharp-Dressed Men,Techies & Gadget Fans     1\n",
       "Business News Watchers,News Watchers,TV Network Viewers (CNN),TV Network Viewers (FOX News Channel),TV Network Viewers (MSNBC),TV Viewers (News)                                                                                                                      1\n",
       "Political News Watchers,Home Movie Viewers (Documentary),TV Network Viewers (CNN),TV Network Viewers (MSNBC),TV Network Viewers (PBS),TV Network Viewers (The CW),TV Viewers (Documentary),TV Viewers (Educational),TV Viewers (News),ZZ_Deprecated_1                 1\n",
       "Bookworms & Avid Readers,Business News Watchers,Family Genre Fans,High Schoolers,Math & Science Enthusiasts,News Watchers,Parents & Family-Focused,Political News Watchers,Talk Show Fans                                                                             1\n",
       "Name: Interests, Length: 196, dtype: int64"
      ]
     },
     "execution_count": 34,
     "metadata": {},
     "output_type": "execute_result"
    }
   ],
   "source": [
    "# first do some exploration in Interests column\n",
    "ads_eff['Interests'].value_counts()"
   ]
  },
  {
   "cell_type": "code",
   "execution_count": 35,
   "metadata": {},
   "outputs": [
    {
     "data": {
      "text/plain": [
       "False    2508\n",
       "True      781\n",
       "Name: Interests, dtype: int64"
      ]
     },
     "execution_count": 35,
     "metadata": {},
     "output_type": "execute_result"
    }
   ],
   "source": [
    "# assign True if the Interests have specific target, else assign False\n",
    "func = lambda x: False if pd.isnull(x) else True\n",
    "ads_in = ads_eff.assign(Interests = ads_eff['Interests'].apply(func))\n",
    "ads_in['Interests'].value_counts()"
   ]
  },
  {
   "cell_type": "code",
   "execution_count": 36,
   "metadata": {},
   "outputs": [
    {
     "data": {
      "text/plain": [
       "0.0"
      ]
     },
     "execution_count": 36,
     "metadata": {},
     "output_type": "execute_result"
    },
    {
     "data": {
      "image/png": "[encoded data removed]",
      "text/plain": [
       "<Figure size 432x288 with 1 Axes>"
      ]
     },
     "metadata": {
      "image/png": {
       "height": 248,
       "width": 398
      },
      "needs_background": "light"
     },
     "output_type": "display_data"
    }
   ],
   "source": [
    "# permutation tests of diff mean\n",
    "# define a function for permutation test\n",
    "data = ads_in[['Efficiency','Interests']]\n",
    "\n",
    "# diff of means\n",
    "data_ori = data.groupby('Interests')['Efficiency'].mean()\n",
    "truediff_mean = data_ori.diff()[1]\n",
    "\n",
    "N = 1000\n",
    "answer = []\n",
    "\n",
    "for _ in range(N):\n",
    "    # shuffle the data\n",
    "    shuffled = data['Efficiency'].sample(replace=False, frac=1).reset_index(drop=True)\n",
    "    # put them in a table\n",
    "    original_and_shuffled = data.assign(**{'Efficiency': shuffled})\n",
    "    # compute the group differences (test statistic!)\n",
    "    ads_now = original_and_shuffled.groupby('Interests')['Efficiency'].mean()\n",
    "    diff_mean = ads_now.diff().sum()\n",
    "    # add it to the list of results\n",
    "    answer.append(diff_mean)\n",
    "    \n",
    "# plot the graph\n",
    "pd.Series(answer).plot(kind='hist', density=True)\n",
    "plt.scatter(truediff_mean, 0, color='red', s=40)\n",
    "\n",
    "# p val\n",
    "p_val = np.count_nonzero(truediff_mean <= answer) / N\n",
    "p_val"
   ]
  },
  {
   "cell_type": "code",
   "execution_count": 37,
   "metadata": {},
   "outputs": [
    {
     "data": {
      "text/plain": [
       "<matplotlib.legend.Legend at 0x1a284190d0>"
      ]
     },
     "execution_count": 37,
     "metadata": {},
     "output_type": "execute_result"
    },
    {
     "data": {
      "image/png": "[encoded data removed]",
      "text/plain": [
       "<Figure size 432x288 with 1 Axes>"
      ]
     },
     "metadata": {
      "image/png": {
       "height": 251,
       "width": 415
      },
      "needs_background": "light"
     },
     "output_type": "display_data"
    }
   ],
   "source": [
    "working = ads_in.copy()[[\"Efficiency\", 'Interests']]\n",
    "True_cond1 = working.loc[working[\"Interests\"] == True, \"Efficiency\"]\n",
    "False_cond1 = working.loc[working[\"Interests\"] == False, \"Efficiency\"]\n",
    "True_cond1.plot.kde()\n",
    "False_cond1.plot.kde()\n",
    "plt.legend([\"Target\", \"Non-Target\"])"
   ]
  },
  {
   "cell_type": "code",
   "execution_count": 47,
   "metadata": {},
   "outputs": [
    {
     "data": {
      "text/plain": [
       "0.11080598423074331"
      ]
     },
     "execution_count": 47,
     "metadata": {},
     "output_type": "execute_result"
    },
    {
     "data": {
      "image/png": "[encoded data removed]",
      "text/plain": [
       "<Figure size 432x288 with 1 Axes>"
      ]
     },
     "metadata": {
      "image/png": {
       "height": 248,
       "width": 382
      },
      "needs_background": "light"
     },
     "output_type": "display_data"
    }
   ],
   "source": [
    "# permutation test using ks-statistic\n",
    "from scipy.stats import ks_2samp\n",
    "\n",
    "N = 1000\n",
    "data = ads_in[['Efficiency','Interests']]\n",
    "\n",
    "grps = data.groupby('Interests')['Efficiency']\n",
    "origin = ks_2samp(grps.get_group(True), grps.get_group(False)).statistic\n",
    "ks_list = []\n",
    "\n",
    "for _ in range(N):\n",
    "    # shuffle the efficiency\n",
    "    shuffle_data = data['Efficiency'].sample(frac=1,replace=False).reset_index(drop=True)\n",
    "    # put them in a table\n",
    "    original_and_shuffled = data.assign(**{'Efficiency': shuffle_data})\n",
    "    # group by the interest column\n",
    "    grps = original_and_shuffled.groupby('Interests')['Efficiency']\n",
    "    # calculate the ks-statistics\n",
    "    ks = ks_2samp(grps.get_group(True), grps.get_group(False)).statistic\n",
    "    # add it to the list of results\n",
    "    ks_list.append(ks)\n",
    "\n",
    "# plot the graph\n",
    "pd.Series(ks_list).plot(kind='hist', density=True)\n",
    "plt.scatter(origin, 0, color='red', s=40)\n",
    "\n",
    "# p val\n",
    "p_val = len([i for i in ks_list if i >= origin])  / N\n",
    "origin"
   ]
  },
  {
   "cell_type": "code",
   "execution_count": 40,
   "metadata": {},
   "outputs": [
    {
     "data": {
      "text/plain": [
       "0       18\n",
       "1       18\n",
       "2       18\n",
       "3       18\n",
       "4       10\n",
       "        ..\n",
       "3284    18\n",
       "3285    21\n",
       "3286    18\n",
       "3287    18\n",
       "3288    18\n",
       "Name: AgeBracket, Length: 3289, dtype: object"
      ]
     },
     "execution_count": 40,
     "metadata": {},
     "output_type": "execute_result"
    }
   ],
   "source": [
    "func = lambda x: 10 if pd.isnull(x) else x[:2]\n",
    "age = ads['AgeBracket'].apply(func)\n",
    "age"
   ]
  },
  {
   "cell_type": "markdown",
   "metadata": {
    "ExecuteTime": {
     "end_time": "2019-10-31T23:36:28.662099Z",
     "start_time": "2019-10-31T23:36:28.660016Z"
    }
   },
   "source": [
    "##### Small conclusion for  hypothesis test\n",
    "\n",
    "- Null Hypothesis: Specific target will not affect the efficiency\n",
    "- Alt Hypothesis: Specific target will lead to higher efficiency\n",
    "- Test statistics: difference of efficiency mean & ks-statistics\n",
    "\n",
    "By using the hypothesis test for both `Language` and `Interests` column, we reject the null hypothesis in both tests and these lead us to our alt hypothesis. we gain an understanding that the specific target will lead to higher efficiency. \n",
    "\n",
    "The reason for why we get this answer will have multiple explanation. For `Language` column, since the advertisor will use words in their advertisements, if the reader cannot understand the language, they will not leave any impression about the advertisements. Thus, the specific target of language will provide the correct direction of who, as viewers, will see this advertisements and ensure that they can understand what is the content in the advertisement. For `Interests` column, since some of the people might be interesting in a specific political area, they might pay more attention when they see advertisements related to the area. However, for those who are not interested in political at all, they will skip the advertisements and then they will have no impression about them.\n",
    "\n",
    "Thus, for future advertisors, it might be a wise choice to find out the target viewers and assign those specific groups when design and post the advertisement, it might be helpful to reduce the cost but gain more impressions\n"
   ]
  },
  {
   "cell_type": "markdown",
   "metadata": {},
   "source": [
    "# Summary of Findings\n",
    "\n",
    "\n",
    "### Introduction\n",
    "We define a new variable `Efficiency` and use `classification` to predict if the advertisment will have high efficiency or low efficiency. We use `accuracy` to compare the models we formed and also check the `f1-score` in fairness part. Since the duration of the advertisments might be an important feature of prediction, we also subtract the EndDate column by StartDate column to form a new feature called `durtion of ads(days)`. In final model, we try to clean the AgeBracket column and form two new features called `low_age` and `high_age`, which represent the lower and upper bond of the AgeBracket column.\n",
    "\n",
    "#### Leading question: How can we use other variables to `predict the efficiency` of the advertisment.\n",
    "#### Predict problem: `Classification`\n",
    "#### Evaluation matric: `accuracy` (comparing models) and `f1-score` (in fairness part)\n",
    "#### New features: `Duration of ads (days)`, `low_age`, `high_age`, and `Efficiency`\n",
    "\n",
    "### Baseline Model\n",
    "We decide to use Support Vector Machine(SVM) as our model. The reason is that we felt the SVM is more generalizable to the unseen data. The theory behind SVM is that it constructs a hyper-plane to seperate the labels in a high dimension space. We did a simple processing of the data. First, we seperate the categorical data and the numerical data. For categorical columns, we place the nan value with the string \"NULL\", and we simply one-hot encode each data. For numerical columns, we fill any nan value with 0. Then, we construct a pipeline that first pre-process the data and then feed into the SVM model. We evaluate the model based on the accuracy score. We know that the accuracy is not the best evaluation to judge the efficiency of the model, but if the accuracy is low at the first hand, the model itself will not perform well on the unseen data. We got the accuracy on the test-set around 61%, which is not a good model.\n",
    "\n",
    "### Final Model\n",
    "\n",
    "#### Cleaning data and form calculable variables\n",
    "In the final model, we first clean the data and do some exploration. We separate the columns into `top 5` and `1/0` two categories. We also redefine the AgeBracket column and separate into two columns, `low_age` and `high_age`\n",
    "\n",
    "`top 5`: some columns have a huge various in the value. However, the top 5 values may take upto 1/3 of the rows. Thus, those 5 values will be considered as important variables. We decide that, for those columns, we assign other values into one category 'Null' and remain the top 5 values untouched. In this way, we can use one hot encoder on those columns.\n",
    "\n",
    "`1/0`: some columns contain a lot of np.nan. From project 3's write-up, we know that the nan values meaning no specific target. Since the value_counts shows that the variables may have really small number, we decide to represent np.nan with 0, which means 'No Specific Target'. For the remaining values, we represent by 1 which means 'Have Specific Target'.\n",
    "\n",
    "`AgeBracket`: AgeBracket is an interesting column, it contains a lot of different format like '18', '18+', '18-45', and '36-'. Then we defined two new columns - `low_age` and `high_age`.  By cleaning the data, we get the lower bond of the age bracket (`low_age` column) and upper bond of the age bracket (`high_age` column)\n",
    "\n",
    "#### First Model\n",
    "We then start explore our first model. We put all the top 5 columns into OneHotEncoder. Since the duration column have a huge variance, we decide to standarlize the duration column. We passthrough other columns. However, we get an `accuracy` around `0.5`, which does not shows that our model improve from the baseline model.\n",
    "\n",
    "#### Final Model\n",
    "Recall in Lab09, when we do the prediction of the titanic dataset, the fucntion StdScalerByGroup help us improve a lot in the accuracy. We decide to use the same function we wrote in Lab09. Since we should have a column represent as group, we remodify the `low_age` and `high_age`. We separate them into 4 groups for each column (from 1 to 4). \n",
    "\n",
    "The model we have for the final model is that we still put all top 5 columns into OneHotEncoder and duration column in Standard Scaler. We then combine (low_age and high_age) with (spend and impressions) and put them into StdScalerByGroup. The remain columns will be all 1/0 type columns, thus we just pass them through. \n",
    "\n",
    "For the final model, we see a huge improve in accuracy, which achive `0.7`\n",
    "\n",
    "#### Grid Search\n",
    "Since we are using SVM as our model, it contains a lot of parameters. In lecture, professor mentioned a method called GridSearch which can automatically run different models and return the best parameters. Thus, we use the GridSearch and find out the parameter for our model will be `{'C': 14, 'gamma': 'auto', 'kernel': 'linear', 'probability': True}`, which have an accuracy around `0.79`. It is a huge improve from our first model.\n",
    "\n",
    "### Fairness Evaluation\n",
    "After obtaining the Final model, we decide to further evaluate the model's efficiency. We calculated the True Positive(TP), False Positive(FP), True Negative(TP), and False Negative(FN) values. Then, based on these values, we calculated the recall, specificity, precision, F1-score, and False Discovery Rate(FDR). In addition, we also try to find out the pattern of distributions for TP, FP, TP, and FN with respect to Spend and Impression through scatter plot and distribution plot. Lastly, we do a permutation test with recall as our test statistics. We want to find out whether or not the recall score of different category in a selected data come from the SAME distribution or DIFFERENT distribution. By doing this, we are able to know whether or not our model is specifically biased toward a particular category or group of people."
   ]
  },
  {
   "cell_type": "code",
   "execution_count": 42,
   "metadata": {},
   "outputs": [],
   "source": [
    "# import everything we need in the project\n",
    "\n",
    "import matplotlib.pyplot as plt\n",
    "import numpy as np\n",
    "import os\n",
    "import pandas as pd\n",
    "import seaborn as sns\n",
    "from sklearn.preprocessing import OneHotEncoder\n",
    "from sklearn.impute import SimpleImputer\n",
    "from sklearn.linear_model import LogisticRegression \n",
    "from sklearn.compose import ColumnTransformer\n",
    "from sklearn.pipeline import Pipeline\n",
    "from sklearn.model_selection import train_test_split\n",
    "from sklearn.neighbors import KNeighborsClassifier\n",
    "from sklearn.tree import DecisionTreeClassifier\n",
    "from sklearn.preprocessing import FunctionTransformer\n",
    "from sklearn.decomposition import PCA\n",
    "from sklearn.linear_model import LinearRegression\n",
    "from sklearn.model_selection import GridSearchCV\n",
    "from sklearn.svm import SVC\n",
    "from sklearn.preprocessing import StandardScaler\n",
    "\n",
    "%matplotlib inline\n",
    "%config InlineBackend.figure_format = 'retina'  # Higher resolution figures"
   ]
  },
  {
   "cell_type": "markdown",
   "metadata": {},
   "source": [
    "### Import data\n",
    "We first import data from 2018 and 2019 dataset and join the data together."
   ]
  },
  {
   "cell_type": "code",
   "execution_count": 45,
   "metadata": {},
   "outputs": [],
   "source": [
    "# import the advertisement file of 2018\n",
    "fp_2018 = os.path.join('data', 'PoliticalAds_2018.csv')\n",
    "ads_2018 = pd.read_csv(fp_2018)\n",
    "\n",
    "# import the advertisement file of 2019\n",
    "fp_2019 = os.path.join('data', 'PoliticalAds_2019.csv')\n",
    "ads_2019 = pd.read_csv(fp_2019)\n",
    "\n",
    "# merge two table together and reset the index\n",
    "ads = pd.concat([ads_2018,ads_2019]).reset_index()"
   ]
  },
  {
   "cell_type": "markdown",
   "metadata": {},
   "source": [
    "### Cleaning Data / Manipulating Data\n",
    "* convert the time columns into date-time object. Then, we calculate the time difference measured in days by subracting EndDate and StartDate. We replace the nan value by the median of time difference, since the distribution of the time difference is right-skewed and the mean is susceptable to outliers.\n",
    "* create a new property called 'Efficiency' that measures how much impressions will achieve in an unit number of spend. By making this variable, we can predict the efficiency using other columns and might give advertisors a general idea when they decide to create a new political advertisement.\n",
    "* Then, we convert Efficiency into binary representation. 1 means ads with high efficiency and 0 mean ads with low efficiency. The boundary we choose to seperate high and low is through median(from original efficiency value). The reason is that it ensures we have equally amount of high efficiency and low efficiency data.\n",
    "* Drop the unnecessary columns, such as index, ADID, BillingAddress, and CreativeURL.\n"
   ]
  },
  {
   "cell_type": "code",
   "execution_count": 48,
   "metadata": {},
   "outputs": [
    {
     "data": {
      "text/plain": [
       "StartDate    datetime64[ns, UTC]\n",
       "EndDate      datetime64[ns, UTC]\n",
       "dtype: object"
      ]
     },
     "execution_count": 48,
     "metadata": {},
     "output_type": "execute_result"
    }
   ],
   "source": [
    "# convert the start date and end date columns into datetime format\n",
    "ads['StartDate'] = pd.to_datetime(ads['StartDate'])\n",
    "ads['EndDate'] = pd.to_datetime(ads['EndDate'])\n",
    "ads.dtypes.loc[[\"StartDate\", \"EndDate\"]]"
   ]
  },
  {
   "cell_type": "code",
   "execution_count": 49,
   "metadata": {},
   "outputs": [
    {
     "data": {
      "text/html": [
       "<div>\n",
       "<style scoped>\n",
       "    .dataframe tbody tr th:only-of-type {\n",
       "        vertical-align: middle;\n",
       "    }\n",
       "\n",
       "    .dataframe tbody tr th {\n",
       "        vertical-align: top;\n",
       "    }\n",
       "\n",
       "    .dataframe thead th {\n",
       "        text-align: right;\n",
       "    }\n",
       "</style>\n",
       "<table border=\"1\" class=\"dataframe\">\n",
       "  <thead>\n",
       "    <tr style=\"text-align: right;\">\n",
       "      <th></th>\n",
       "      <th>ADID</th>\n",
       "      <th>CreativeUrl</th>\n",
       "      <th>Spend</th>\n",
       "      <th>Impressions</th>\n",
       "      <th>StartDate</th>\n",
       "      <th>EndDate</th>\n",
       "      <th>OrganizationName</th>\n",
       "      <th>BillingAddress</th>\n",
       "      <th>CandidateBallotInformation</th>\n",
       "      <th>PayingAdvertiserName</th>\n",
       "      <th>...</th>\n",
       "      <th>Interests</th>\n",
       "      <th>OsType</th>\n",
       "      <th>Segments</th>\n",
       "      <th>LocationType</th>\n",
       "      <th>Language</th>\n",
       "      <th>AdvancedDemographics</th>\n",
       "      <th>Targeting Connection Type</th>\n",
       "      <th>Targeting Carrier (ISP)</th>\n",
       "      <th>Targeting Geo - Postal Code</th>\n",
       "      <th>CreativeProperties</th>\n",
       "    </tr>\n",
       "  </thead>\n",
       "  <tbody>\n",
       "    <tr>\n",
       "      <td>0</td>\n",
       "      <td>68189125240c16e3dcec398a7b4e040e74621ccf11df25...</td>\n",
       "      <td>https://www.snap.com/political-ads/asset/b2d0c...</td>\n",
       "      <td>2</td>\n",
       "      <td>1301</td>\n",
       "      <td>2018-08-22 15:00:40+00:00</td>\n",
       "      <td>2018-09-09 12:30:23+00:00</td>\n",
       "      <td>Context Media</td>\n",
       "      <td>Västra Norrlandsgatan 7 ,UMEÅ,90327,SE</td>\n",
       "      <td>NaN</td>\n",
       "      <td>Socialdemokraterna - Kalmar Län</td>\n",
       "      <td>...</td>\n",
       "      <td>NaN</td>\n",
       "      <td>NaN</td>\n",
       "      <td>Provided by Advertiser</td>\n",
       "      <td>NaN</td>\n",
       "      <td>sv</td>\n",
       "      <td>NaN</td>\n",
       "      <td>NaN</td>\n",
       "      <td>NaN</td>\n",
       "      <td>NaN</td>\n",
       "      <td>web_view_url:http://www.socialdemokraterna.nu/...</td>\n",
       "    </tr>\n",
       "    <tr>\n",
       "      <td>1</td>\n",
       "      <td>3542d40ba9fb0f0aa52889b03ea4a7db64ee4a3687aa6e...</td>\n",
       "      <td>https://www.snap.com/political-ads/asset/bc5a0...</td>\n",
       "      <td>143</td>\n",
       "      <td>49094</td>\n",
       "      <td>2018-09-12 10:01:00+00:00</td>\n",
       "      <td>2018-09-15 17:59:00+00:00</td>\n",
       "      <td>Congressman Pete King</td>\n",
       "      <td>US</td>\n",
       "      <td>NaN</td>\n",
       "      <td>Pete King for Congress</td>\n",
       "      <td>...</td>\n",
       "      <td>Political News Watchers,ZZ_Deprecated_1</td>\n",
       "      <td>NaN</td>\n",
       "      <td>Provided by Advertiser</td>\n",
       "      <td>NaN</td>\n",
       "      <td>NaN</td>\n",
       "      <td>NaN</td>\n",
       "      <td>NaN</td>\n",
       "      <td>NaN</td>\n",
       "      <td>11701,11702,11706,11705,11714,11715,11716,1171...</td>\n",
       "      <td>web_view_url:http://peteking.com/2018campaignf...</td>\n",
       "    </tr>\n",
       "    <tr>\n",
       "      <td>2</td>\n",
       "      <td>6d1eb1af8c01a43def7b695fd19f2c43fa6625d126a063...</td>\n",
       "      <td>https://www.snap.com/political-ads/asset/d9367...</td>\n",
       "      <td>1913</td>\n",
       "      <td>886571</td>\n",
       "      <td>2018-10-21 22:19:57+00:00</td>\n",
       "      <td>2018-11-05 23:17:28+00:00</td>\n",
       "      <td>Ohio Democratic Party</td>\n",
       "      <td>US</td>\n",
       "      <td>NaN</td>\n",
       "      <td>The Ohio Democratic Party</td>\n",
       "      <td>...</td>\n",
       "      <td>NaN</td>\n",
       "      <td>NaN</td>\n",
       "      <td>NaN</td>\n",
       "      <td>NaN</td>\n",
       "      <td>NaN</td>\n",
       "      <td>NaN</td>\n",
       "      <td>NaN</td>\n",
       "      <td>NaN</td>\n",
       "      <td>44313,44306,44325,44601,44805,44004,45701,4412...</td>\n",
       "      <td>web_view_url:https://IWillVote.com/OH</td>\n",
       "    </tr>\n",
       "    <tr>\n",
       "      <td>3</td>\n",
       "      <td>64d906646b616c034c91b69b9e7851944844eb456dd203...</td>\n",
       "      <td>https://www.snap.com/political-ads/asset/e56c0...</td>\n",
       "      <td>56</td>\n",
       "      <td>11770</td>\n",
       "      <td>2018-09-28 23:10:14+00:00</td>\n",
       "      <td>2018-10-17 02:00:00+00:00</td>\n",
       "      <td>Chong and Koster</td>\n",
       "      <td>1640 Rhode Island Ave. NW, Suite 600,Washingto...</td>\n",
       "      <td>NaN</td>\n",
       "      <td>Voter Participation Center</td>\n",
       "      <td>...</td>\n",
       "      <td>NaN</td>\n",
       "      <td>NaN</td>\n",
       "      <td>Provided by Advertiser</td>\n",
       "      <td>NaN</td>\n",
       "      <td>NaN</td>\n",
       "      <td>Marital Status (Single)</td>\n",
       "      <td>NaN</td>\n",
       "      <td>NaN</td>\n",
       "      <td>NaN</td>\n",
       "      <td>web_view_url:https://www.voterparticipation.or...</td>\n",
       "    </tr>\n",
       "    <tr>\n",
       "      <td>4</td>\n",
       "      <td>4a090b72334ceabe7779ffe261a518b6f182e3fde4337e...</td>\n",
       "      <td>https://www.snap.com/political-ads/asset/8a8cb...</td>\n",
       "      <td>255</td>\n",
       "      <td>142929</td>\n",
       "      <td>2018-12-15 15:12:18+00:00</td>\n",
       "      <td>2018-12-21 15:11:41+00:00</td>\n",
       "      <td>Luton Borough Council</td>\n",
       "      <td>36 Golden Square,London,w1f 9jx,GB</td>\n",
       "      <td>NaN</td>\n",
       "      <td>BSBT</td>\n",
       "      <td>...</td>\n",
       "      <td>NaN</td>\n",
       "      <td>NaN</td>\n",
       "      <td>Provided by Advertiser</td>\n",
       "      <td>NaN</td>\n",
       "      <td>NaN</td>\n",
       "      <td>NaN</td>\n",
       "      <td>NaN</td>\n",
       "      <td>NaN</td>\n",
       "      <td>NaN</td>\n",
       "      <td>web_view_url:https://vimeo.com/305748063</td>\n",
       "    </tr>\n",
       "  </tbody>\n",
       "</table>\n",
       "<p>5 rows × 27 columns</p>\n",
       "</div>"
      ],
      "text/plain": [
       "                                                ADID  \\\n",
       "0  68189125240c16e3dcec398a7b4e040e74621ccf11df25...   \n",
       "1  3542d40ba9fb0f0aa52889b03ea4a7db64ee4a3687aa6e...   \n",
       "2  6d1eb1af8c01a43def7b695fd19f2c43fa6625d126a063...   \n",
       "3  64d906646b616c034c91b69b9e7851944844eb456dd203...   \n",
       "4  4a090b72334ceabe7779ffe261a518b6f182e3fde4337e...   \n",
       "\n",
       "                                         CreativeUrl  Spend  Impressions  \\\n",
       "0  https://www.snap.com/political-ads/asset/b2d0c...      2         1301   \n",
       "1  https://www.snap.com/political-ads/asset/bc5a0...    143        49094   \n",
       "2  https://www.snap.com/political-ads/asset/d9367...   1913       886571   \n",
       "3  https://www.snap.com/political-ads/asset/e56c0...     56        11770   \n",
       "4  https://www.snap.com/political-ads/asset/8a8cb...    255       142929   \n",
       "\n",
       "                  StartDate                   EndDate       OrganizationName  \\\n",
       "0 2018-08-22 15:00:40+00:00 2018-09-09 12:30:23+00:00          Context Media   \n",
       "1 2018-09-12 10:01:00+00:00 2018-09-15 17:59:00+00:00  Congressman Pete King   \n",
       "2 2018-10-21 22:19:57+00:00 2018-11-05 23:17:28+00:00  Ohio Democratic Party   \n",
       "3 2018-09-28 23:10:14+00:00 2018-10-17 02:00:00+00:00       Chong and Koster   \n",
       "4 2018-12-15 15:12:18+00:00 2018-12-21 15:11:41+00:00  Luton Borough Council   \n",
       "\n",
       "                                      BillingAddress  \\\n",
       "0             Västra Norrlandsgatan 7 ,UMEÅ,90327,SE   \n",
       "1                                                 US   \n",
       "2                                                 US   \n",
       "3  1640 Rhode Island Ave. NW, Suite 600,Washingto...   \n",
       "4                 36 Golden Square,London,w1f 9jx,GB   \n",
       "\n",
       "  CandidateBallotInformation             PayingAdvertiserName  ...  \\\n",
       "0                        NaN  Socialdemokraterna - Kalmar Län  ...   \n",
       "1                        NaN           Pete King for Congress  ...   \n",
       "2                        NaN        The Ohio Democratic Party  ...   \n",
       "3                        NaN       Voter Participation Center  ...   \n",
       "4                        NaN                             BSBT  ...   \n",
       "\n",
       "                                 Interests OsType                Segments  \\\n",
       "0                                      NaN    NaN  Provided by Advertiser   \n",
       "1  Political News Watchers,ZZ_Deprecated_1    NaN  Provided by Advertiser   \n",
       "2                                      NaN    NaN                     NaN   \n",
       "3                                      NaN    NaN  Provided by Advertiser   \n",
       "4                                      NaN    NaN  Provided by Advertiser   \n",
       "\n",
       "  LocationType Language     AdvancedDemographics Targeting Connection Type  \\\n",
       "0          NaN       sv                      NaN                       NaN   \n",
       "1          NaN      NaN                      NaN                       NaN   \n",
       "2          NaN      NaN                      NaN                       NaN   \n",
       "3          NaN      NaN  Marital Status (Single)                       NaN   \n",
       "4          NaN      NaN                      NaN                       NaN   \n",
       "\n",
       "  Targeting Carrier (ISP)                        Targeting Geo - Postal Code  \\\n",
       "0                     NaN                                                NaN   \n",
       "1                     NaN  11701,11702,11706,11705,11714,11715,11716,1171...   \n",
       "2                     NaN  44313,44306,44325,44601,44805,44004,45701,4412...   \n",
       "3                     NaN                                                NaN   \n",
       "4                     NaN                                                NaN   \n",
       "\n",
       "                                  CreativeProperties  \n",
       "0  web_view_url:http://www.socialdemokraterna.nu/...  \n",
       "1  web_view_url:http://peteking.com/2018campaignf...  \n",
       "2              web_view_url:https://IWillVote.com/OH  \n",
       "3  web_view_url:https://www.voterparticipation.or...  \n",
       "4           web_view_url:https://vimeo.com/305748063  \n",
       "\n",
       "[5 rows x 27 columns]"
      ]
     },
     "execution_count": 49,
     "metadata": {},
     "output_type": "execute_result"
    }
   ],
   "source": [
    "# drop the index column\n",
    "ads = ads.drop('index', axis = 1)\n",
    "\n",
    "# notice that the spend column have 0 value, replace by 1 for future use\n",
    "ads_eff = ads.copy()\n",
    "ads_eff['Spend'] = ads_eff['Spend'].replace(0,1)\n",
    "ads_eff.head()"
   ]
  },
  {
   "cell_type": "code",
   "execution_count": 51,
   "metadata": {},
   "outputs": [],
   "source": [
    "# continue our exploration of project 3, create a new column name 'efficiency'\n",
    "# efficiency = impression / spend\n",
    "ads_eff['Efficiency'] = ads_eff['Impressions'] / ads_eff['Spend']\n",
    "\n",
    "# choose the median of the efficiency column, which will separate the efficiency into two categories\n",
    "ads_stat = ads_eff.describe()[\"Efficiency\"]\n",
    "half = ads_stat.loc[\"50%\"]\n",
    "\n",
    "# assign 1 means the efficiency is higher than the median, which is considered as high efficiency\n",
    "# assign 0 means the efficiency is lower than the median, which is considered as low efficiency\n",
    "ads_eff = ads_eff.assign(Efficiency = ads_eff[\"Efficiency\"].apply(lambda x: 1 if x >= half else 0))"
   ]
  },
  {
   "cell_type": "code",
   "execution_count": 52,
   "metadata": {},
   "outputs": [],
   "source": [
    "#drop ADID, Billing Address, CreativeUrl since they are not meaningful properties\n",
    "ads_eff = ads_eff.drop([\"ADID\", \"BillingAddress\", \"CreativeUrl\"], axis = 1)"
   ]
  },
  {
   "cell_type": "code",
   "execution_count": 53,
   "metadata": {},
   "outputs": [
    {
     "data": {
      "text/plain": [
       "<matplotlib.collections.PathCollection at 0x1a274ddad0>"
      ]
     },
     "execution_count": 53,
     "metadata": {},
     "output_type": "execute_result"
    },
    {
     "data": {
      "image/png": "[encoded data removed]",
      "text/plain": [
       "<Figure size 432x288 with 1 Axes>"
      ]
     },
     "metadata": {
      "image/png": {
       "height": 248,
       "width": 394
      },
      "needs_background": "light"
     },
     "output_type": "display_data"
    }
   ],
   "source": [
    "# first explore the duration of the advertisment\n",
    "time_difference = (ads_eff[\"EndDate\"] - ads_eff[\"StartDate\"]).apply(lambda x: x.total_seconds() / (3600 * 24))\n",
    "\n",
    "ignore_nan = time_difference.dropna()\n",
    "sns.distplot(ignore_nan)\n",
    "plt.scatter(time_difference.mean(),0, color = \"red\")\n",
    "plt.scatter(time_difference.median(), 0, color = \"green\")\n",
    "#since data right-skewed, convert nan to median"
   ]
  },
  {
   "cell_type": "code",
   "execution_count": 54,
   "metadata": {},
   "outputs": [],
   "source": [
    "# assign new column to ads table, fill the nan value by the median. Time_difference is our new feature\n",
    "time_difference = time_difference.fillna(time_difference.median())\n",
    "ads_eff = ads_eff.assign(**{\"duration of ads(days)\":time_difference}).drop([\"StartDate\", \"EndDate\"], axis = 1)"
   ]
  },
  {
   "cell_type": "code",
   "execution_count": 55,
   "metadata": {},
   "outputs": [
    {
     "data": {
      "text/plain": [
       "array([nan])"
      ]
     },
     "execution_count": 55,
     "metadata": {},
     "output_type": "execute_result"
    }
   ],
   "source": [
    "ads_eff[\"LatLongRad\"].unique()"
   ]
  },
  {
   "cell_type": "markdown",
   "metadata": {},
   "source": [
    "### Baseline Model\n",
    "We use SVM as our baseline model and we separate the columns into 'object' and 'number' categories. \n",
    "\n",
    "#### object category\n",
    "We first use `simpleimputer` to replace nan value to the string \"NULL\". Then, we use `onehotencoder` to one-hot the features.\n",
    "\n",
    "#### number category\n",
    "We use `simpleimputer` to replace nan value with 0. The reason we do this is that we noticed that some numeric data is actually categorical and there are nan values throughout the column. Therefore, we thought it's a valid approach to just replace those values with 0.\n",
    "\n",
    "#### Pipeline\n",
    "* we use pipeline for data-preprocessing, and then we use a column transformer to connect all of the preprocessed data. Finally, we make another pipeline that feed in the processed data into the model for training. We obtained a accuracy score of roughly 61% in our test-set for our base-line model."
   ]
  },
  {
   "cell_type": "code",
   "execution_count": 56,
   "metadata": {},
   "outputs": [],
   "source": [
    "# separate the features and target\n",
    "features = ads_eff.drop(\"Efficiency\", axis = 1)\n",
    "target = ads_eff[\"Efficiency\"]"
   ]
  },
  {
   "cell_type": "code",
   "execution_count": 57,
   "metadata": {},
   "outputs": [
    {
     "data": {
      "text/plain": [
       "Index(['Spend', 'Impressions', 'OrganizationName',\n",
       "       'CandidateBallotInformation', 'PayingAdvertiserName', 'Gender',\n",
       "       'AgeBracket', 'CountryCode', 'RegionID', 'ElectoralDistrictID',\n",
       "       'LatLongRad', 'MetroID', 'Interests', 'OsType', 'Segments',\n",
       "       'LocationType', 'Language', 'AdvancedDemographics',\n",
       "       'Targeting Connection Type', 'Targeting Carrier (ISP)',\n",
       "       'Targeting Geo - Postal Code', 'CreativeProperties',\n",
       "       'duration of ads(days)'],\n",
       "      dtype='object')"
      ]
     },
     "execution_count": 57,
     "metadata": {},
     "output_type": "execute_result"
    }
   ],
   "source": [
    "features.columns"
   ]
  },
  {
   "cell_type": "code",
   "execution_count": 58,
   "metadata": {},
   "outputs": [],
   "source": [
    "# baseline model\n",
    "types = ads_eff.drop(\"Efficiency\", axis = 1).dtypes\n",
    "catcols = types.loc[types == np.object].index\n",
    "numcols = types.loc[types != np.object].index\n",
    "cats = Pipeline(steps = [(\"imp\", SimpleImputer(strategy = \"constant\", fill_value = \"NULL\")),\n",
    "                        (\"ohe\", OneHotEncoder(handle_unknown = \"ignore\", sparse = False))])\n",
    "                \n",
    "ct = ColumnTransformer(transformers = [('catcols', cats, catcols),\n",
    "                                       ('numcols', SimpleImputer(strategy='constant', fill_value=0), numcols)])\n",
    "\n",
    "p1_svm = Pipeline(steps = [('features', ct), ('svm', SVC(gamma='auto'))])"
   ]
  },
  {
   "cell_type": "code",
   "execution_count": 59,
   "metadata": {},
   "outputs": [],
   "source": [
    "# separate the train and test set\n",
    "X_train, X_test, y_train, y_test = train_test_split(features, target)"
   ]
  },
  {
   "cell_type": "code",
   "execution_count": 60,
   "metadata": {},
   "outputs": [
    {
     "data": {
      "text/plain": [
       "Pipeline(memory=None,\n",
       "         steps=[('features',\n",
       "                 ColumnTransformer(n_jobs=None, remainder='drop',\n",
       "                                   sparse_threshold=0.3,\n",
       "                                   transformer_weights=None,\n",
       "                                   transformers=[('catcols',\n",
       "                                                  Pipeline(memory=None,\n",
       "                                                           steps=[('imp',\n",
       "                                                                   SimpleImputer(add_indicator=False,\n",
       "                                                                                 copy=True,\n",
       "                                                                                 fill_value='NULL',\n",
       "                                                                                 missing_values=nan,\n",
       "                                                                                 strategy='constant',\n",
       "                                                                                 verbose=0)),\n",
       "                                                                  ('ohe',\n",
       "                                                                   OneHotEncoder(categorical_features=No...\n",
       "                                                  Index(['Spend', 'Impressions', 'LatLongRad', 'Targeting Connection Type',\n",
       "       'Targeting Carrier (ISP)', 'duration of ads(days)'],\n",
       "      dtype='object'))],\n",
       "                                   verbose=False)),\n",
       "                ('svm',\n",
       "                 SVC(C=1.0, cache_size=200, class_weight=None, coef0=0.0,\n",
       "                     decision_function_shape='ovr', degree=3, gamma='auto',\n",
       "                     kernel='rbf', max_iter=-1, probability=False,\n",
       "                     random_state=None, shrinking=True, tol=0.001,\n",
       "                     verbose=False))],\n",
       "         verbose=False)"
      ]
     },
     "execution_count": 60,
     "metadata": {},
     "output_type": "execute_result"
    }
   ],
   "source": [
    "p1_svm.fit(X_train, y_train)"
   ]
  },
  {
   "cell_type": "code",
   "execution_count": 61,
   "metadata": {},
   "outputs": [
    {
     "data": {
      "text/plain": [
       "0.6148238153098421"
      ]
     },
     "execution_count": 61,
     "metadata": {},
     "output_type": "execute_result"
    }
   ],
   "source": [
    "# baseline model score\n",
    "svm_score = p1_svm.score(X_test, y_test)\n",
    "svm_score"
   ]
  },
  {
   "cell_type": "markdown",
   "metadata": {},
   "source": [
    "## Final Model"
   ]
  },
  {
   "cell_type": "markdown",
   "metadata": {},
   "source": [
    "### Clean data and assign features\n",
    "We check the unique values contain in each column and find out the best way to make the feature useful. By exploring the data, we decide to transform data by two different method - `top 5` and `1/0`\n",
    "\n",
    "#### Top 5\n",
    "We find out that for some columns, when using value_counts method, there will have five values that is significant higher than other values and also take a large part of the data. Thus, we decide to remain that 5 values unchanged and also create a new 'null' group that contains all other different values. \n",
    "In this way, the column will have 6 unique values and can use `onehotencoder` to predict the efficiency\n",
    "\n",
    "#### 1/0\n",
    "We find out that for some columns, there will be part of the column that have specific value but mainly np.nan value. Thus, for those column, we assign 1 to those who have specific value and other 0.\n",
    "In this way, the column will have two different categories (1 and 0) and can use them to predict the efficiency."
   ]
  },
  {
   "cell_type": "code",
   "execution_count": 62,
   "metadata": {},
   "outputs": [],
   "source": [
    "working = ads_eff.copy()"
   ]
  },
  {
   "cell_type": "code",
   "execution_count": 63,
   "metadata": {},
   "outputs": [
    {
     "data": {
      "text/plain": [
       "UnRestrict Minnesota         297\n",
       "Blueprint Interactive        235\n",
       "The Aber Group               197\n",
       "ACRONYM                      182\n",
       "Chong and Koster             163\n",
       "                            ... \n",
       "Liberals 4 Love, LLC           1\n",
       "STG                            1\n",
       "Murtaugh for Congress          1\n",
       "Greenpeace Fund, Inc.          1\n",
       "Norsk Studentorganisasjon      1\n",
       "Name: OrganizationName, Length: 330, dtype: int64"
      ]
     },
     "execution_count": 63,
     "metadata": {},
     "output_type": "execute_result"
    }
   ],
   "source": [
    "# example of top 5. We will only select the top five data, and categorize the rest as the same type.\n",
    "working['OrganizationName'].value_counts()"
   ]
  },
  {
   "cell_type": "markdown",
   "metadata": {},
   "source": [
    "As we can see for the OrganizationName column, more than 1000 columns have top 5 values. However, there has 330 unique values with a lot only appear one time. By using the top 5 stategy, we separate the values into 6 categories, which will create better prediction"
   ]
  },
  {
   "cell_type": "code",
   "execution_count": 64,
   "metadata": {},
   "outputs": [
    {
     "data": {
      "text/plain": [
       "FEMALE    250\n",
       "MALE       72\n",
       "Name: Gender, dtype: int64"
      ]
     },
     "execution_count": 64,
     "metadata": {},
     "output_type": "execute_result"
    }
   ],
   "source": [
    "# example of 1/0\n",
    "working['Gender'].value_counts()"
   ]
  },
  {
   "cell_type": "code",
   "execution_count": 65,
   "metadata": {},
   "outputs": [
    {
     "data": {
      "text/plain": [
       "2967"
      ]
     },
     "execution_count": 65,
     "metadata": {},
     "output_type": "execute_result"
    }
   ],
   "source": [
    "working['Gender'].isnull().sum()"
   ]
  },
  {
   "cell_type": "markdown",
   "metadata": {},
   "source": [
    "As we can see for the Gender column, there are about 320 rows that contains value, which is 'Female' or 'Male'. And for the reset 3000 columns, the value of Gender is np.nan. As we learned in the project 3 write-up, the np.nan of Gender column means no specific target. Thus, we can separate the Gender column into to categories. One is have specific target (represent by value 1) and the other is without a specific target (represent by value 0)."
   ]
  },
  {
   "cell_type": "code",
   "execution_count": 66,
   "metadata": {},
   "outputs": [],
   "source": [
    "# By doing some exploration on the columns, we separate the useful columns into two group and also drop the useless\n",
    "# columns which might do not provide much information.\n",
    "\n",
    "top_5_col = [\"OrganizationName\", \"CandidateBallotInformation\", \"PayingAdvertiserName\", \"CountryCode\",\n",
    "            \"CountryCode\", \"RegionID\", \"Language\"]\n",
    "\n",
    "one_and_zero = [\"Gender\", \"ElectoralDistrictID\", \"MetroID\", \"Interests\", \"OsType\", \n",
    "               \"Segments\", \"LocationType\", \"AdvancedDemographics\", \n",
    "                \"Targeting Geo - Postal Code\", \"CreativeProperties\"]\n",
    "\n",
    "working = working.drop(['LatLongRad','Targeting Connection Type','Targeting Carrier (ISP)'],axis=1)"
   ]
  },
  {
   "cell_type": "code",
   "execution_count": 67,
   "metadata": {},
   "outputs": [],
   "source": [
    "# We define the function for top 5 transformation\n",
    "def top_5(a_series):\n",
    "    not_top_5 = a_series.value_counts().iloc[:6].index\n",
    "    not_top_5_series = a_series.loc[~(a_series.isin(not_top_5))].index\n",
    "    null_val = pd.Series(\"Null\", index = not_top_5_series)\n",
    "    a_series.loc[~(a_series.isin(not_top_5))] = null_val\n",
    "    return a_series"
   ]
  },
  {
   "cell_type": "code",
   "execution_count": 68,
   "metadata": {},
   "outputs": [
    {
     "data": {
      "text/html": [
       "<div>\n",
       "<style scoped>\n",
       "    .dataframe tbody tr th:only-of-type {\n",
       "        vertical-align: middle;\n",
       "    }\n",
       "\n",
       "    .dataframe tbody tr th {\n",
       "        vertical-align: top;\n",
       "    }\n",
       "\n",
       "    .dataframe thead th {\n",
       "        text-align: right;\n",
       "    }\n",
       "</style>\n",
       "<table border=\"1\" class=\"dataframe\">\n",
       "  <thead>\n",
       "    <tr style=\"text-align: right;\">\n",
       "      <th></th>\n",
       "      <th>Spend</th>\n",
       "      <th>Impressions</th>\n",
       "      <th>OrganizationName</th>\n",
       "      <th>CandidateBallotInformation</th>\n",
       "      <th>PayingAdvertiserName</th>\n",
       "      <th>Gender</th>\n",
       "      <th>AgeBracket</th>\n",
       "      <th>CountryCode</th>\n",
       "      <th>RegionID</th>\n",
       "      <th>ElectoralDistrictID</th>\n",
       "      <th>...</th>\n",
       "      <th>Interests</th>\n",
       "      <th>OsType</th>\n",
       "      <th>Segments</th>\n",
       "      <th>LocationType</th>\n",
       "      <th>Language</th>\n",
       "      <th>AdvancedDemographics</th>\n",
       "      <th>Targeting Geo - Postal Code</th>\n",
       "      <th>CreativeProperties</th>\n",
       "      <th>Efficiency</th>\n",
       "      <th>duration of ads(days)</th>\n",
       "    </tr>\n",
       "  </thead>\n",
       "  <tbody>\n",
       "    <tr>\n",
       "      <td>0</td>\n",
       "      <td>2</td>\n",
       "      <td>1301</td>\n",
       "      <td>Null</td>\n",
       "      <td>Null</td>\n",
       "      <td>Null</td>\n",
       "      <td>NaN</td>\n",
       "      <td>18-24</td>\n",
       "      <td>Null</td>\n",
       "      <td>Null</td>\n",
       "      <td>NaN</td>\n",
       "      <td>...</td>\n",
       "      <td>NaN</td>\n",
       "      <td>NaN</td>\n",
       "      <td>Provided by Advertiser</td>\n",
       "      <td>NaN</td>\n",
       "      <td>Null</td>\n",
       "      <td>NaN</td>\n",
       "      <td>NaN</td>\n",
       "      <td>web_view_url:http://www.socialdemokraterna.nu/...</td>\n",
       "      <td>1</td>\n",
       "      <td>17.895637</td>\n",
       "    </tr>\n",
       "    <tr>\n",
       "      <td>1</td>\n",
       "      <td>143</td>\n",
       "      <td>49094</td>\n",
       "      <td>Null</td>\n",
       "      <td>Null</td>\n",
       "      <td>Null</td>\n",
       "      <td>NaN</td>\n",
       "      <td>18+</td>\n",
       "      <td>united states</td>\n",
       "      <td>Null</td>\n",
       "      <td>NaN</td>\n",
       "      <td>...</td>\n",
       "      <td>Political News Watchers,ZZ_Deprecated_1</td>\n",
       "      <td>NaN</td>\n",
       "      <td>Provided by Advertiser</td>\n",
       "      <td>NaN</td>\n",
       "      <td>Null</td>\n",
       "      <td>NaN</td>\n",
       "      <td>11701,11702,11706,11705,11714,11715,11716,1171...</td>\n",
       "      <td>web_view_url:http://peteking.com/2018campaignf...</td>\n",
       "      <td>0</td>\n",
       "      <td>3.331944</td>\n",
       "    </tr>\n",
       "    <tr>\n",
       "      <td>2</td>\n",
       "      <td>1913</td>\n",
       "      <td>886571</td>\n",
       "      <td>Null</td>\n",
       "      <td>Null</td>\n",
       "      <td>Null</td>\n",
       "      <td>NaN</td>\n",
       "      <td>18-23</td>\n",
       "      <td>united states</td>\n",
       "      <td>Null</td>\n",
       "      <td>NaN</td>\n",
       "      <td>...</td>\n",
       "      <td>NaN</td>\n",
       "      <td>NaN</td>\n",
       "      <td>NaN</td>\n",
       "      <td>NaN</td>\n",
       "      <td>Null</td>\n",
       "      <td>NaN</td>\n",
       "      <td>44313,44306,44325,44601,44805,44004,45701,4412...</td>\n",
       "      <td>web_view_url:https://IWillVote.com/OH</td>\n",
       "      <td>1</td>\n",
       "      <td>15.039942</td>\n",
       "    </tr>\n",
       "    <tr>\n",
       "      <td>3</td>\n",
       "      <td>56</td>\n",
       "      <td>11770</td>\n",
       "      <td>Chong and Koster</td>\n",
       "      <td>Null</td>\n",
       "      <td>Voter Participation Center</td>\n",
       "      <td>FEMALE</td>\n",
       "      <td>18+</td>\n",
       "      <td>united states</td>\n",
       "      <td>Minnesota</td>\n",
       "      <td>NaN</td>\n",
       "      <td>...</td>\n",
       "      <td>NaN</td>\n",
       "      <td>NaN</td>\n",
       "      <td>Provided by Advertiser</td>\n",
       "      <td>NaN</td>\n",
       "      <td>Null</td>\n",
       "      <td>Marital Status (Single)</td>\n",
       "      <td>NaN</td>\n",
       "      <td>web_view_url:https://www.voterparticipation.or...</td>\n",
       "      <td>0</td>\n",
       "      <td>18.117894</td>\n",
       "    </tr>\n",
       "    <tr>\n",
       "      <td>4</td>\n",
       "      <td>255</td>\n",
       "      <td>142929</td>\n",
       "      <td>Null</td>\n",
       "      <td>Null</td>\n",
       "      <td>Null</td>\n",
       "      <td>NaN</td>\n",
       "      <td>NaN</td>\n",
       "      <td>united kingdom</td>\n",
       "      <td>Null</td>\n",
       "      <td>NaN</td>\n",
       "      <td>...</td>\n",
       "      <td>NaN</td>\n",
       "      <td>NaN</td>\n",
       "      <td>Provided by Advertiser</td>\n",
       "      <td>NaN</td>\n",
       "      <td>Null</td>\n",
       "      <td>NaN</td>\n",
       "      <td>NaN</td>\n",
       "      <td>web_view_url:https://vimeo.com/305748063</td>\n",
       "      <td>1</td>\n",
       "      <td>5.999572</td>\n",
       "    </tr>\n",
       "  </tbody>\n",
       "</table>\n",
       "<p>5 rows × 21 columns</p>\n",
       "</div>"
      ],
      "text/plain": [
       "   Spend  Impressions  OrganizationName CandidateBallotInformation  \\\n",
       "0      2         1301              Null                       Null   \n",
       "1    143        49094              Null                       Null   \n",
       "2   1913       886571              Null                       Null   \n",
       "3     56        11770  Chong and Koster                       Null   \n",
       "4    255       142929              Null                       Null   \n",
       "\n",
       "         PayingAdvertiserName  Gender AgeBracket     CountryCode   RegionID  \\\n",
       "0                        Null     NaN      18-24            Null       Null   \n",
       "1                        Null     NaN        18+   united states       Null   \n",
       "2                        Null     NaN      18-23   united states       Null   \n",
       "3  Voter Participation Center  FEMALE        18+   united states  Minnesota   \n",
       "4                        Null     NaN        NaN  united kingdom       Null   \n",
       "\n",
       "  ElectoralDistrictID  ...                                Interests OsType  \\\n",
       "0                 NaN  ...                                      NaN    NaN   \n",
       "1                 NaN  ...  Political News Watchers,ZZ_Deprecated_1    NaN   \n",
       "2                 NaN  ...                                      NaN    NaN   \n",
       "3                 NaN  ...                                      NaN    NaN   \n",
       "4                 NaN  ...                                      NaN    NaN   \n",
       "\n",
       "                 Segments LocationType Language     AdvancedDemographics  \\\n",
       "0  Provided by Advertiser          NaN     Null                      NaN   \n",
       "1  Provided by Advertiser          NaN     Null                      NaN   \n",
       "2                     NaN          NaN     Null                      NaN   \n",
       "3  Provided by Advertiser          NaN     Null  Marital Status (Single)   \n",
       "4  Provided by Advertiser          NaN     Null                      NaN   \n",
       "\n",
       "                         Targeting Geo - Postal Code  \\\n",
       "0                                                NaN   \n",
       "1  11701,11702,11706,11705,11714,11715,11716,1171...   \n",
       "2  44313,44306,44325,44601,44805,44004,45701,4412...   \n",
       "3                                                NaN   \n",
       "4                                                NaN   \n",
       "\n",
       "                                  CreativeProperties Efficiency  \\\n",
       "0  web_view_url:http://www.socialdemokraterna.nu/...          1   \n",
       "1  web_view_url:http://peteking.com/2018campaignf...          0   \n",
       "2              web_view_url:https://IWillVote.com/OH          1   \n",
       "3  web_view_url:https://www.voterparticipation.or...          0   \n",
       "4           web_view_url:https://vimeo.com/305748063          1   \n",
       "\n",
       "   duration of ads(days)  \n",
       "0              17.895637  \n",
       "1               3.331944  \n",
       "2              15.039942  \n",
       "3              18.117894  \n",
       "4               5.999572  \n",
       "\n",
       "[5 rows x 21 columns]"
      ]
     },
     "execution_count": 68,
     "metadata": {},
     "output_type": "execute_result"
    }
   ],
   "source": [
    "# and apply the change\n",
    "working[top_5_col] = working[top_5_col].apply(top_5)\n",
    "\n",
    "working.head()"
   ]
  },
  {
   "cell_type": "code",
   "execution_count": 69,
   "metadata": {},
   "outputs": [],
   "source": [
    "# We also code the change for 1/0 transformation and apply the change\n",
    "func = lambda x: 0 if pd.isnull(x) else 1\n",
    "columns = one_and_zero\n",
    "for col in columns:\n",
    "    working[col] = working[col].apply(func)"
   ]
  },
  {
   "cell_type": "code",
   "execution_count": 70,
   "metadata": {},
   "outputs": [
    {
     "data": {
      "text/html": [
       "<div>\n",
       "<style scoped>\n",
       "    .dataframe tbody tr th:only-of-type {\n",
       "        vertical-align: middle;\n",
       "    }\n",
       "\n",
       "    .dataframe tbody tr th {\n",
       "        vertical-align: top;\n",
       "    }\n",
       "\n",
       "    .dataframe thead th {\n",
       "        text-align: right;\n",
       "    }\n",
       "</style>\n",
       "<table border=\"1\" class=\"dataframe\">\n",
       "  <thead>\n",
       "    <tr style=\"text-align: right;\">\n",
       "      <th></th>\n",
       "      <th>Spend</th>\n",
       "      <th>Impressions</th>\n",
       "      <th>OrganizationName</th>\n",
       "      <th>CandidateBallotInformation</th>\n",
       "      <th>PayingAdvertiserName</th>\n",
       "      <th>Gender</th>\n",
       "      <th>AgeBracket</th>\n",
       "      <th>CountryCode</th>\n",
       "      <th>RegionID</th>\n",
       "      <th>ElectoralDistrictID</th>\n",
       "      <th>...</th>\n",
       "      <th>Interests</th>\n",
       "      <th>OsType</th>\n",
       "      <th>Segments</th>\n",
       "      <th>LocationType</th>\n",
       "      <th>Language</th>\n",
       "      <th>AdvancedDemographics</th>\n",
       "      <th>Targeting Geo - Postal Code</th>\n",
       "      <th>CreativeProperties</th>\n",
       "      <th>Efficiency</th>\n",
       "      <th>duration of ads(days)</th>\n",
       "    </tr>\n",
       "  </thead>\n",
       "  <tbody>\n",
       "    <tr>\n",
       "      <td>0</td>\n",
       "      <td>2</td>\n",
       "      <td>1301</td>\n",
       "      <td>Null</td>\n",
       "      <td>Null</td>\n",
       "      <td>Null</td>\n",
       "      <td>0</td>\n",
       "      <td>18-24</td>\n",
       "      <td>Null</td>\n",
       "      <td>Null</td>\n",
       "      <td>0</td>\n",
       "      <td>...</td>\n",
       "      <td>0</td>\n",
       "      <td>0</td>\n",
       "      <td>1</td>\n",
       "      <td>0</td>\n",
       "      <td>Null</td>\n",
       "      <td>0</td>\n",
       "      <td>0</td>\n",
       "      <td>1</td>\n",
       "      <td>1</td>\n",
       "      <td>17.895637</td>\n",
       "    </tr>\n",
       "    <tr>\n",
       "      <td>1</td>\n",
       "      <td>143</td>\n",
       "      <td>49094</td>\n",
       "      <td>Null</td>\n",
       "      <td>Null</td>\n",
       "      <td>Null</td>\n",
       "      <td>0</td>\n",
       "      <td>18+</td>\n",
       "      <td>united states</td>\n",
       "      <td>Null</td>\n",
       "      <td>0</td>\n",
       "      <td>...</td>\n",
       "      <td>1</td>\n",
       "      <td>0</td>\n",
       "      <td>1</td>\n",
       "      <td>0</td>\n",
       "      <td>Null</td>\n",
       "      <td>0</td>\n",
       "      <td>1</td>\n",
       "      <td>1</td>\n",
       "      <td>0</td>\n",
       "      <td>3.331944</td>\n",
       "    </tr>\n",
       "    <tr>\n",
       "      <td>2</td>\n",
       "      <td>1913</td>\n",
       "      <td>886571</td>\n",
       "      <td>Null</td>\n",
       "      <td>Null</td>\n",
       "      <td>Null</td>\n",
       "      <td>0</td>\n",
       "      <td>18-23</td>\n",
       "      <td>united states</td>\n",
       "      <td>Null</td>\n",
       "      <td>0</td>\n",
       "      <td>...</td>\n",
       "      <td>0</td>\n",
       "      <td>0</td>\n",
       "      <td>0</td>\n",
       "      <td>0</td>\n",
       "      <td>Null</td>\n",
       "      <td>0</td>\n",
       "      <td>1</td>\n",
       "      <td>1</td>\n",
       "      <td>1</td>\n",
       "      <td>15.039942</td>\n",
       "    </tr>\n",
       "    <tr>\n",
       "      <td>3</td>\n",
       "      <td>56</td>\n",
       "      <td>11770</td>\n",
       "      <td>Chong and Koster</td>\n",
       "      <td>Null</td>\n",
       "      <td>Voter Participation Center</td>\n",
       "      <td>1</td>\n",
       "      <td>18+</td>\n",
       "      <td>united states</td>\n",
       "      <td>Minnesota</td>\n",
       "      <td>0</td>\n",
       "      <td>...</td>\n",
       "      <td>0</td>\n",
       "      <td>0</td>\n",
       "      <td>1</td>\n",
       "      <td>0</td>\n",
       "      <td>Null</td>\n",
       "      <td>1</td>\n",
       "      <td>0</td>\n",
       "      <td>1</td>\n",
       "      <td>0</td>\n",
       "      <td>18.117894</td>\n",
       "    </tr>\n",
       "    <tr>\n",
       "      <td>4</td>\n",
       "      <td>255</td>\n",
       "      <td>142929</td>\n",
       "      <td>Null</td>\n",
       "      <td>Null</td>\n",
       "      <td>Null</td>\n",
       "      <td>0</td>\n",
       "      <td>NaN</td>\n",
       "      <td>united kingdom</td>\n",
       "      <td>Null</td>\n",
       "      <td>0</td>\n",
       "      <td>...</td>\n",
       "      <td>0</td>\n",
       "      <td>0</td>\n",
       "      <td>1</td>\n",
       "      <td>0</td>\n",
       "      <td>Null</td>\n",
       "      <td>0</td>\n",
       "      <td>0</td>\n",
       "      <td>1</td>\n",
       "      <td>1</td>\n",
       "      <td>5.999572</td>\n",
       "    </tr>\n",
       "  </tbody>\n",
       "</table>\n",
       "<p>5 rows × 21 columns</p>\n",
       "</div>"
      ],
      "text/plain": [
       "   Spend  Impressions  OrganizationName CandidateBallotInformation  \\\n",
       "0      2         1301              Null                       Null   \n",
       "1    143        49094              Null                       Null   \n",
       "2   1913       886571              Null                       Null   \n",
       "3     56        11770  Chong and Koster                       Null   \n",
       "4    255       142929              Null                       Null   \n",
       "\n",
       "         PayingAdvertiserName  Gender AgeBracket     CountryCode   RegionID  \\\n",
       "0                        Null       0      18-24            Null       Null   \n",
       "1                        Null       0        18+   united states       Null   \n",
       "2                        Null       0      18-23   united states       Null   \n",
       "3  Voter Participation Center       1        18+   united states  Minnesota   \n",
       "4                        Null       0        NaN  united kingdom       Null   \n",
       "\n",
       "   ElectoralDistrictID  ...  Interests  OsType  Segments  LocationType  \\\n",
       "0                    0  ...          0       0         1             0   \n",
       "1                    0  ...          1       0         1             0   \n",
       "2                    0  ...          0       0         0             0   \n",
       "3                    0  ...          0       0         1             0   \n",
       "4                    0  ...          0       0         1             0   \n",
       "\n",
       "   Language AdvancedDemographics  Targeting Geo - Postal Code  \\\n",
       "0      Null                    0                            0   \n",
       "1      Null                    0                            1   \n",
       "2      Null                    0                            1   \n",
       "3      Null                    1                            0   \n",
       "4      Null                    0                            0   \n",
       "\n",
       "   CreativeProperties  Efficiency  duration of ads(days)  \n",
       "0                   1           1              17.895637  \n",
       "1                   1           0               3.331944  \n",
       "2                   1           1              15.039942  \n",
       "3                   1           0              18.117894  \n",
       "4                   1           1               5.999572  \n",
       "\n",
       "[5 rows x 21 columns]"
      ]
     },
     "execution_count": 70,
     "metadata": {},
     "output_type": "execute_result"
    }
   ],
   "source": [
    "working.head()"
   ]
  },
  {
   "cell_type": "markdown",
   "metadata": {},
   "source": [
    "#### Another new features\n",
    "For the AgeBracket column, we find out that it gives value in different format like '18+' or '18-50'. Since the age target maybe an important variable for prediction, we decide to develop two new variable columns named `low_age` and `high_age`. For `low_age` column, it contains the lower bond of the age bracket. And for `high_age`, it contains the upper bond of the age bracket. \n",
    "Since for some rows, the age bracket means targetting all age, we decide to define a common lower bond equals to 10 (an age that might start using cellphone and have access to political) and a common upper bond equals to 70. Also, for some variables like '18+', we will also defined their upper bond as 70 (Same for variables like '36-', we defined their lower bond as 10)"
   ]
  },
  {
   "cell_type": "code",
   "execution_count": 71,
   "metadata": {},
   "outputs": [
    {
     "data": {
      "text/plain": [
       "0       (18, 24)\n",
       "1       (18, 70)\n",
       "2       (18, 23)\n",
       "3       (18, 70)\n",
       "4       (10, 70)\n",
       "          ...   \n",
       "3284    (18, 70)\n",
       "3285    (21, 70)\n",
       "3286    (18, 30)\n",
       "3287    (18, 70)\n",
       "3288    (18, 70)\n",
       "Name: AgeBracket, Length: 3289, dtype: object"
      ]
     },
     "execution_count": 71,
     "metadata": {},
     "output_type": "execute_result"
    }
   ],
   "source": [
    "# create the new features\n",
    "\n",
    "# check the lower and upper bond\n",
    "func = lambda x: ('10','70') if pd.isnull(x) else (x[:2],x[2:])\n",
    "age = working['AgeBracket'].apply(func)\n",
    "\n",
    "# assign default upper bond to variables like '18+'\n",
    "func = lambda x: (x[0],'70') if x[1] == '+' else x\n",
    "age = age.apply(func)\n",
    "\n",
    "# assign default upper bond to variables like '18+'\n",
    "func = lambda x: (x[0],'70') if x[1] == '++' else x\n",
    "age = age.apply(func)\n",
    "\n",
    "# assign default lower bond to variables like '18-'\n",
    "func = lambda x: ('10',x[1]) if x[1] == '-' else x\n",
    "age = age.apply(func)\n",
    "\n",
    "# clean the upper bond without sign '-'\n",
    "func = lambda x: (x[0],x[1][1:]) if x[1][0] == '-' else x\n",
    "age = age.apply(func)\n",
    "\n",
    "# assign same upper and lower bond for variables like '18'\n",
    "func = lambda x: (x[0],x[0]) if x[1] == '' else x\n",
    "age = age.apply(func)\n",
    "\n",
    "age"
   ]
  },
  {
   "cell_type": "code",
   "execution_count": 72,
   "metadata": {},
   "outputs": [
    {
     "data": {
      "text/html": [
       "<div>\n",
       "<style scoped>\n",
       "    .dataframe tbody tr th:only-of-type {\n",
       "        vertical-align: middle;\n",
       "    }\n",
       "\n",
       "    .dataframe tbody tr th {\n",
       "        vertical-align: top;\n",
       "    }\n",
       "\n",
       "    .dataframe thead th {\n",
       "        text-align: right;\n",
       "    }\n",
       "</style>\n",
       "<table border=\"1\" class=\"dataframe\">\n",
       "  <thead>\n",
       "    <tr style=\"text-align: right;\">\n",
       "      <th></th>\n",
       "      <th>Spend</th>\n",
       "      <th>Impressions</th>\n",
       "      <th>OrganizationName</th>\n",
       "      <th>CandidateBallotInformation</th>\n",
       "      <th>PayingAdvertiserName</th>\n",
       "      <th>Gender</th>\n",
       "      <th>CountryCode</th>\n",
       "      <th>RegionID</th>\n",
       "      <th>ElectoralDistrictID</th>\n",
       "      <th>MetroID</th>\n",
       "      <th>...</th>\n",
       "      <th>Segments</th>\n",
       "      <th>LocationType</th>\n",
       "      <th>Language</th>\n",
       "      <th>AdvancedDemographics</th>\n",
       "      <th>Targeting Geo - Postal Code</th>\n",
       "      <th>CreativeProperties</th>\n",
       "      <th>Efficiency</th>\n",
       "      <th>duration of ads(days)</th>\n",
       "      <th>low_age</th>\n",
       "      <th>high_age</th>\n",
       "    </tr>\n",
       "  </thead>\n",
       "  <tbody>\n",
       "    <tr>\n",
       "      <td>0</td>\n",
       "      <td>2</td>\n",
       "      <td>1301</td>\n",
       "      <td>Null</td>\n",
       "      <td>Null</td>\n",
       "      <td>Null</td>\n",
       "      <td>0</td>\n",
       "      <td>Null</td>\n",
       "      <td>Null</td>\n",
       "      <td>0</td>\n",
       "      <td>0</td>\n",
       "      <td>...</td>\n",
       "      <td>1</td>\n",
       "      <td>0</td>\n",
       "      <td>Null</td>\n",
       "      <td>0</td>\n",
       "      <td>0</td>\n",
       "      <td>1</td>\n",
       "      <td>1</td>\n",
       "      <td>17.895637</td>\n",
       "      <td>18</td>\n",
       "      <td>24</td>\n",
       "    </tr>\n",
       "    <tr>\n",
       "      <td>1</td>\n",
       "      <td>143</td>\n",
       "      <td>49094</td>\n",
       "      <td>Null</td>\n",
       "      <td>Null</td>\n",
       "      <td>Null</td>\n",
       "      <td>0</td>\n",
       "      <td>united states</td>\n",
       "      <td>Null</td>\n",
       "      <td>0</td>\n",
       "      <td>0</td>\n",
       "      <td>...</td>\n",
       "      <td>1</td>\n",
       "      <td>0</td>\n",
       "      <td>Null</td>\n",
       "      <td>0</td>\n",
       "      <td>1</td>\n",
       "      <td>1</td>\n",
       "      <td>0</td>\n",
       "      <td>3.331944</td>\n",
       "      <td>18</td>\n",
       "      <td>70</td>\n",
       "    </tr>\n",
       "    <tr>\n",
       "      <td>2</td>\n",
       "      <td>1913</td>\n",
       "      <td>886571</td>\n",
       "      <td>Null</td>\n",
       "      <td>Null</td>\n",
       "      <td>Null</td>\n",
       "      <td>0</td>\n",
       "      <td>united states</td>\n",
       "      <td>Null</td>\n",
       "      <td>0</td>\n",
       "      <td>0</td>\n",
       "      <td>...</td>\n",
       "      <td>0</td>\n",
       "      <td>0</td>\n",
       "      <td>Null</td>\n",
       "      <td>0</td>\n",
       "      <td>1</td>\n",
       "      <td>1</td>\n",
       "      <td>1</td>\n",
       "      <td>15.039942</td>\n",
       "      <td>18</td>\n",
       "      <td>23</td>\n",
       "    </tr>\n",
       "    <tr>\n",
       "      <td>3</td>\n",
       "      <td>56</td>\n",
       "      <td>11770</td>\n",
       "      <td>Chong and Koster</td>\n",
       "      <td>Null</td>\n",
       "      <td>Voter Participation Center</td>\n",
       "      <td>1</td>\n",
       "      <td>united states</td>\n",
       "      <td>Minnesota</td>\n",
       "      <td>0</td>\n",
       "      <td>0</td>\n",
       "      <td>...</td>\n",
       "      <td>1</td>\n",
       "      <td>0</td>\n",
       "      <td>Null</td>\n",
       "      <td>1</td>\n",
       "      <td>0</td>\n",
       "      <td>1</td>\n",
       "      <td>0</td>\n",
       "      <td>18.117894</td>\n",
       "      <td>18</td>\n",
       "      <td>70</td>\n",
       "    </tr>\n",
       "    <tr>\n",
       "      <td>4</td>\n",
       "      <td>255</td>\n",
       "      <td>142929</td>\n",
       "      <td>Null</td>\n",
       "      <td>Null</td>\n",
       "      <td>Null</td>\n",
       "      <td>0</td>\n",
       "      <td>united kingdom</td>\n",
       "      <td>Null</td>\n",
       "      <td>0</td>\n",
       "      <td>0</td>\n",
       "      <td>...</td>\n",
       "      <td>1</td>\n",
       "      <td>0</td>\n",
       "      <td>Null</td>\n",
       "      <td>0</td>\n",
       "      <td>0</td>\n",
       "      <td>1</td>\n",
       "      <td>1</td>\n",
       "      <td>5.999572</td>\n",
       "      <td>10</td>\n",
       "      <td>70</td>\n",
       "    </tr>\n",
       "  </tbody>\n",
       "</table>\n",
       "<p>5 rows × 22 columns</p>\n",
       "</div>"
      ],
      "text/plain": [
       "   Spend  Impressions  OrganizationName CandidateBallotInformation  \\\n",
       "0      2         1301              Null                       Null   \n",
       "1    143        49094              Null                       Null   \n",
       "2   1913       886571              Null                       Null   \n",
       "3     56        11770  Chong and Koster                       Null   \n",
       "4    255       142929              Null                       Null   \n",
       "\n",
       "         PayingAdvertiserName  Gender     CountryCode   RegionID  \\\n",
       "0                        Null       0            Null       Null   \n",
       "1                        Null       0   united states       Null   \n",
       "2                        Null       0   united states       Null   \n",
       "3  Voter Participation Center       1   united states  Minnesota   \n",
       "4                        Null       0  united kingdom       Null   \n",
       "\n",
       "   ElectoralDistrictID  MetroID  ...  Segments  LocationType  Language  \\\n",
       "0                    0        0  ...         1             0      Null   \n",
       "1                    0        0  ...         1             0      Null   \n",
       "2                    0        0  ...         0             0      Null   \n",
       "3                    0        0  ...         1             0      Null   \n",
       "4                    0        0  ...         1             0      Null   \n",
       "\n",
       "   AdvancedDemographics Targeting Geo - Postal Code  CreativeProperties  \\\n",
       "0                     0                           0                   1   \n",
       "1                     0                           1                   1   \n",
       "2                     0                           1                   1   \n",
       "3                     1                           0                   1   \n",
       "4                     0                           0                   1   \n",
       "\n",
       "   Efficiency  duration of ads(days)  low_age  high_age  \n",
       "0           1              17.895637       18        24  \n",
       "1           0               3.331944       18        70  \n",
       "2           1              15.039942       18        23  \n",
       "3           0              18.117894       18        70  \n",
       "4           1               5.999572       10        70  \n",
       "\n",
       "[5 rows x 22 columns]"
      ]
     },
     "execution_count": 72,
     "metadata": {},
     "output_type": "execute_result"
    }
   ],
   "source": [
    "# assign column 'low_age'\n",
    "func = lambda x: int(x[0])\n",
    "low_age = age.apply(func)\n",
    "working['low_age']  = low_age\n",
    "\n",
    "# assign column 'low_age'\n",
    "func = lambda x: int(x[1])\n",
    "high_age = age.apply(func)\n",
    "working['high_age']  = high_age\n",
    "\n",
    "# drop the original column 'AgeBracket'\n",
    "working = working.drop('AgeBracket',axis=1)\n",
    "\n",
    "working.head()"
   ]
  },
  {
   "cell_type": "code",
   "execution_count": 73,
   "metadata": {},
   "outputs": [
    {
     "data": {
      "text/plain": [
       "Index(['Spend', 'Impressions', 'OrganizationName',\n",
       "       'CandidateBallotInformation', 'PayingAdvertiserName', 'Gender',\n",
       "       'CountryCode', 'RegionID', 'ElectoralDistrictID', 'MetroID',\n",
       "       'Interests', 'OsType', 'Segments', 'LocationType', 'Language',\n",
       "       'AdvancedDemographics', 'Targeting Geo - Postal Code',\n",
       "       'CreativeProperties', 'Efficiency', 'duration of ads(days)', 'low_age',\n",
       "       'high_age'],\n",
       "      dtype='object')"
      ]
     },
     "execution_count": 73,
     "metadata": {},
     "output_type": "execute_result"
    }
   ],
   "source": [
    "# current columns we have\n",
    "working.columns"
   ]
  },
  {
   "cell_type": "markdown",
   "metadata": {},
   "source": [
    "### Creating the final model\n",
    "We will be showing our process in finding out the best model by assessing the accuracy.\n",
    "\n",
    "* first attempt: Adding the duration of ads(days) in training, and feed it into the model along with the preprocessed data that we did above.\n",
    "\n",
    "* Second attempt: We develop other from Age columns, and use the StandardlizeByGroup z-scaler in lab09 to z-scale spend and impression.\n",
    "\n",
    "* Final attempt: Building on the second attempt, we use GridSearch to find the best parameters."
   ]
  },
  {
   "cell_type": "markdown",
   "metadata": {},
   "source": [
    "#### The first try\n",
    "We define the new model by assign all object types into one hot encoder. Since the variance of duration is large, we assign duration column into scaler. We pass through other columns."
   ]
  },
  {
   "cell_type": "code",
   "execution_count": 74,
   "metadata": {},
   "outputs": [],
   "source": [
    "# pipeline of one hot\n",
    "column_one = working.select_dtypes('object').columns\n",
    "pl_one = Pipeline([\n",
    "       ('one-hot', OneHotEncoder(handle_unknown='ignore'))\n",
    "    ])\n",
    "\n",
    "# pipeline of standard scaler\n",
    "column_std = ['duration of ads(days)']\n",
    "pl_standard = Pipeline([\n",
    "        ('standard', StandardScaler())\n",
    "    ])\n",
    "\n",
    "# passthrough everything else\n",
    "preprocessor = ColumnTransformer(\n",
    "    transformers=[\n",
    "        ('standard_scaler',pl_standard,column_std),\n",
    "        ('one_hot', pl_one,column_one),\n",
    "    ], remainder = 'passthrough')"
   ]
  },
  {
   "cell_type": "code",
   "execution_count": 75,
   "metadata": {},
   "outputs": [],
   "source": [
    "features = working.drop(\"Efficiency\", axis = 1)\n",
    "target = working[\"Efficiency\"]"
   ]
  },
  {
   "cell_type": "code",
   "execution_count": 76,
   "metadata": {},
   "outputs": [],
   "source": [
    "X_train, X_test, y_train, y_test = train_test_split(features, target, stratify = target)"
   ]
  },
  {
   "cell_type": "code",
   "execution_count": 77,
   "metadata": {},
   "outputs": [],
   "source": [
    "clf_first = Pipeline(steps=[('preprocessor', preprocessor),\n",
    "                      ('regressor', SVC(C=6,kernel='rbf',probability=True,gamma='auto'))])"
   ]
  },
  {
   "cell_type": "code",
   "execution_count": 78,
   "metadata": {},
   "outputs": [
    {
     "data": {
      "text/plain": [
       "Pipeline(memory=None,\n",
       "         steps=[('preprocessor',\n",
       "                 ColumnTransformer(n_jobs=None, remainder='passthrough',\n",
       "                                   sparse_threshold=0.3,\n",
       "                                   transformer_weights=None,\n",
       "                                   transformers=[('standard_scaler',\n",
       "                                                  Pipeline(memory=None,\n",
       "                                                           steps=[('standard',\n",
       "                                                                   StandardScaler(copy=True,\n",
       "                                                                                  with_mean=True,\n",
       "                                                                                  with_std=True))],\n",
       "                                                           verbose=False),\n",
       "                                                  ['duration of ads(days)']),\n",
       "                                                 ('one_hot',\n",
       "                                                  Pipeline(memory=None,\n",
       "                                                           step...\n",
       "                                                  Index(['OrganizationName', 'CandidateBallotInformation',\n",
       "       'PayingAdvertiserName', 'CountryCode', 'RegionID', 'Language'],\n",
       "      dtype='object'))],\n",
       "                                   verbose=False)),\n",
       "                ('regressor',\n",
       "                 SVC(C=6, cache_size=200, class_weight=None, coef0=0.0,\n",
       "                     decision_function_shape='ovr', degree=3, gamma='auto',\n",
       "                     kernel='rbf', max_iter=-1, probability=True,\n",
       "                     random_state=None, shrinking=True, tol=0.001,\n",
       "                     verbose=False))],\n",
       "         verbose=False)"
      ]
     },
     "execution_count": 78,
     "metadata": {},
     "output_type": "execute_result"
    }
   ],
   "source": [
    "clf_first.fit(X_train, y_train)"
   ]
  },
  {
   "cell_type": "code",
   "execution_count": 79,
   "metadata": {},
   "outputs": [
    {
     "data": {
      "text/plain": [
       "0.528554070473876"
      ]
     },
     "execution_count": 79,
     "metadata": {},
     "output_type": "execute_result"
    }
   ],
   "source": [
    "clf_first.score(X_test, y_test) "
   ]
  },
  {
   "cell_type": "markdown",
   "metadata": {},
   "source": [
    "We find that the score is pretty low, then we remember that in lab09, we write the function about z-scaler under group condition. We try to use it in our project.\n",
    "#### Second Try\n",
    "Since we need to choose columns to form group, we decide to use low_age and high_age by separate them into 4 groups (start with 1, the lower the age is, the smaller the group it's in). Then we try a new model on the new dataframe."
   ]
  },
  {
   "cell_type": "code",
   "execution_count": 80,
   "metadata": {},
   "outputs": [],
   "source": [
    "# separate the low age into 4 groups\n",
    "working['low_age'] = pd.cut(working['low_age'], bins=4, labels=False) + 1\n",
    "\n",
    "# separate the low age into 4 groups\n",
    "working['high_age'] = pd.cut(working['high_age'], bins=4, labels=False) + 1"
   ]
  },
  {
   "cell_type": "code",
   "execution_count": 81,
   "metadata": {},
   "outputs": [
    {
     "data": {
      "text/html": [
       "<div>\n",
       "<style scoped>\n",
       "    .dataframe tbody tr th:only-of-type {\n",
       "        vertical-align: middle;\n",
       "    }\n",
       "\n",
       "    .dataframe tbody tr th {\n",
       "        vertical-align: top;\n",
       "    }\n",
       "\n",
       "    .dataframe thead th {\n",
       "        text-align: right;\n",
       "    }\n",
       "</style>\n",
       "<table border=\"1\" class=\"dataframe\">\n",
       "  <thead>\n",
       "    <tr style=\"text-align: right;\">\n",
       "      <th></th>\n",
       "      <th>Spend</th>\n",
       "      <th>Impressions</th>\n",
       "      <th>OrganizationName</th>\n",
       "      <th>CandidateBallotInformation</th>\n",
       "      <th>PayingAdvertiserName</th>\n",
       "      <th>Gender</th>\n",
       "      <th>CountryCode</th>\n",
       "      <th>RegionID</th>\n",
       "      <th>ElectoralDistrictID</th>\n",
       "      <th>MetroID</th>\n",
       "      <th>...</th>\n",
       "      <th>Segments</th>\n",
       "      <th>LocationType</th>\n",
       "      <th>Language</th>\n",
       "      <th>AdvancedDemographics</th>\n",
       "      <th>Targeting Geo - Postal Code</th>\n",
       "      <th>CreativeProperties</th>\n",
       "      <th>Efficiency</th>\n",
       "      <th>duration of ads(days)</th>\n",
       "      <th>low_age</th>\n",
       "      <th>high_age</th>\n",
       "    </tr>\n",
       "  </thead>\n",
       "  <tbody>\n",
       "    <tr>\n",
       "      <td>0</td>\n",
       "      <td>2</td>\n",
       "      <td>1301</td>\n",
       "      <td>Null</td>\n",
       "      <td>Null</td>\n",
       "      <td>Null</td>\n",
       "      <td>0</td>\n",
       "      <td>Null</td>\n",
       "      <td>Null</td>\n",
       "      <td>0</td>\n",
       "      <td>0</td>\n",
       "      <td>...</td>\n",
       "      <td>1</td>\n",
       "      <td>0</td>\n",
       "      <td>Null</td>\n",
       "      <td>0</td>\n",
       "      <td>0</td>\n",
       "      <td>1</td>\n",
       "      <td>1</td>\n",
       "      <td>17.895637</td>\n",
       "      <td>2</td>\n",
       "      <td>1</td>\n",
       "    </tr>\n",
       "    <tr>\n",
       "      <td>1</td>\n",
       "      <td>143</td>\n",
       "      <td>49094</td>\n",
       "      <td>Null</td>\n",
       "      <td>Null</td>\n",
       "      <td>Null</td>\n",
       "      <td>0</td>\n",
       "      <td>united states</td>\n",
       "      <td>Null</td>\n",
       "      <td>0</td>\n",
       "      <td>0</td>\n",
       "      <td>...</td>\n",
       "      <td>1</td>\n",
       "      <td>0</td>\n",
       "      <td>Null</td>\n",
       "      <td>0</td>\n",
       "      <td>1</td>\n",
       "      <td>1</td>\n",
       "      <td>0</td>\n",
       "      <td>3.331944</td>\n",
       "      <td>2</td>\n",
       "      <td>4</td>\n",
       "    </tr>\n",
       "    <tr>\n",
       "      <td>2</td>\n",
       "      <td>1913</td>\n",
       "      <td>886571</td>\n",
       "      <td>Null</td>\n",
       "      <td>Null</td>\n",
       "      <td>Null</td>\n",
       "      <td>0</td>\n",
       "      <td>united states</td>\n",
       "      <td>Null</td>\n",
       "      <td>0</td>\n",
       "      <td>0</td>\n",
       "      <td>...</td>\n",
       "      <td>0</td>\n",
       "      <td>0</td>\n",
       "      <td>Null</td>\n",
       "      <td>0</td>\n",
       "      <td>1</td>\n",
       "      <td>1</td>\n",
       "      <td>1</td>\n",
       "      <td>15.039942</td>\n",
       "      <td>2</td>\n",
       "      <td>1</td>\n",
       "    </tr>\n",
       "    <tr>\n",
       "      <td>3</td>\n",
       "      <td>56</td>\n",
       "      <td>11770</td>\n",
       "      <td>Chong and Koster</td>\n",
       "      <td>Null</td>\n",
       "      <td>Voter Participation Center</td>\n",
       "      <td>1</td>\n",
       "      <td>united states</td>\n",
       "      <td>Minnesota</td>\n",
       "      <td>0</td>\n",
       "      <td>0</td>\n",
       "      <td>...</td>\n",
       "      <td>1</td>\n",
       "      <td>0</td>\n",
       "      <td>Null</td>\n",
       "      <td>1</td>\n",
       "      <td>0</td>\n",
       "      <td>1</td>\n",
       "      <td>0</td>\n",
       "      <td>18.117894</td>\n",
       "      <td>2</td>\n",
       "      <td>4</td>\n",
       "    </tr>\n",
       "    <tr>\n",
       "      <td>4</td>\n",
       "      <td>255</td>\n",
       "      <td>142929</td>\n",
       "      <td>Null</td>\n",
       "      <td>Null</td>\n",
       "      <td>Null</td>\n",
       "      <td>0</td>\n",
       "      <td>united kingdom</td>\n",
       "      <td>Null</td>\n",
       "      <td>0</td>\n",
       "      <td>0</td>\n",
       "      <td>...</td>\n",
       "      <td>1</td>\n",
       "      <td>0</td>\n",
       "      <td>Null</td>\n",
       "      <td>0</td>\n",
       "      <td>0</td>\n",
       "      <td>1</td>\n",
       "      <td>1</td>\n",
       "      <td>5.999572</td>\n",
       "      <td>1</td>\n",
       "      <td>4</td>\n",
       "    </tr>\n",
       "  </tbody>\n",
       "</table>\n",
       "<p>5 rows × 22 columns</p>\n",
       "</div>"
      ],
      "text/plain": [
       "   Spend  Impressions  OrganizationName CandidateBallotInformation  \\\n",
       "0      2         1301              Null                       Null   \n",
       "1    143        49094              Null                       Null   \n",
       "2   1913       886571              Null                       Null   \n",
       "3     56        11770  Chong and Koster                       Null   \n",
       "4    255       142929              Null                       Null   \n",
       "\n",
       "         PayingAdvertiserName  Gender     CountryCode   RegionID  \\\n",
       "0                        Null       0            Null       Null   \n",
       "1                        Null       0   united states       Null   \n",
       "2                        Null       0   united states       Null   \n",
       "3  Voter Participation Center       1   united states  Minnesota   \n",
       "4                        Null       0  united kingdom       Null   \n",
       "\n",
       "   ElectoralDistrictID  MetroID  ...  Segments  LocationType  Language  \\\n",
       "0                    0        0  ...         1             0      Null   \n",
       "1                    0        0  ...         1             0      Null   \n",
       "2                    0        0  ...         0             0      Null   \n",
       "3                    0        0  ...         1             0      Null   \n",
       "4                    0        0  ...         1             0      Null   \n",
       "\n",
       "   AdvancedDemographics Targeting Geo - Postal Code  CreativeProperties  \\\n",
       "0                     0                           0                   1   \n",
       "1                     0                           1                   1   \n",
       "2                     0                           1                   1   \n",
       "3                     1                           0                   1   \n",
       "4                     0                           0                   1   \n",
       "\n",
       "   Efficiency  duration of ads(days)  low_age  high_age  \n",
       "0           1              17.895637        2         1  \n",
       "1           0               3.331944        2         4  \n",
       "2           1              15.039942        2         1  \n",
       "3           0              18.117894        2         4  \n",
       "4           1               5.999572        1         4  \n",
       "\n",
       "[5 rows x 22 columns]"
      ]
     },
     "execution_count": 81,
     "metadata": {},
     "output_type": "execute_result"
    }
   ],
   "source": [
    "working.head()"
   ]
  },
  {
   "cell_type": "code",
   "execution_count": 82,
   "metadata": {},
   "outputs": [],
   "source": [
    "# the code of z-scaler by group in lab09\n",
    "\n",
    "from sklearn.base import BaseEstimator, TransformerMixin\n",
    "\n",
    "\n",
    "class StdScalerByGroup(BaseEstimator, TransformerMixin):\n",
    "    \n",
    "    def __init__(self):\n",
    "        pass\n",
    "\n",
    "    def fit(self, X, y=None):\n",
    "        df = pd.DataFrame(X)\n",
    "        self.grps_ = X.groupby(X.columns[0]).agg(['std','mean']).to_dict()\n",
    "        return self\n",
    "\n",
    "    def transform(self, X, y=None):\n",
    "        try:\n",
    "            getattr(self, \"grps_\")\n",
    "        except AttributeError:\n",
    "            raise RuntimeError(\"You must fit the transformer before tranforming the data!\")\n",
    "        \n",
    "        def func(df):\n",
    "            group_name = df.name\n",
    "\n",
    "            def inner(col): \n",
    "\n",
    "                col_name = col.name\n",
    "                col_std = self.grps_[(col_name,'std')][group_name]\n",
    "                col_mean = self.grps_[(col_name,'mean')][group_name]\n",
    "                new = df[col_name].apply(lambda x: (x-col_mean)/col_std)\n",
    "                return new\n",
    "\n",
    "            df = df.drop(df.columns[0],axis=1).apply(inner)\n",
    "            return df\n",
    "\n",
    "        df = pd.DataFrame(X)\n",
    "        \n",
    "        return df.groupby(df.columns[0]).apply(func)"
   ]
  },
  {
   "cell_type": "code",
   "execution_count": 83,
   "metadata": {},
   "outputs": [],
   "source": [
    "# pipeline of one hot\n",
    "column_one = working.select_dtypes('object').columns # all object columns\n",
    "pl_one = Pipeline([\n",
    "       ('one-hot', OneHotEncoder(handle_unknown='ignore'))\n",
    "    ])\n",
    "\n",
    "# pipeline of standard scaler\n",
    "column_std = ['duration of ads(days)']\n",
    "pl_standard = Pipeline([\n",
    "        ('standard', StandardScaler())\n",
    "    ])\n",
    "\n",
    "# pipeline of z-scaler by group\n",
    "column_gp = ['low_age','high_age','Spend','Impressions'] # columns for z-scaler by group\n",
    "pl_scaler = Pipeline([\n",
    "       ('scaler-reg', StdScalerByGroup())\n",
    "    ])\n",
    "\n",
    "preprocessor = ColumnTransformer(\n",
    "    transformers=[\n",
    "        ('scaler', pl_scaler,[\"low_age\",'Spend']),\n",
    "        ('scaler_2', pl_scaler,[\"high_age\",'Spend']),\n",
    "        ('scaler_3', pl_scaler,[\"low_age\",'Impressions']),\n",
    "        ('scaler_4', pl_scaler,[\"high_age\",'Impressions']),\n",
    "        ('standard_scaler',pl_standard,column_std),\n",
    "        ('standard_scaler2',pl_standard, ['Spend']),\n",
    "        ('one_hot', pl_one,column_one)\n",
    "    ], remainder = 'passthrough')\n",
    "\n"
   ]
  },
  {
   "cell_type": "code",
   "execution_count": 84,
   "metadata": {},
   "outputs": [],
   "source": [
    "features = working.drop(\"Efficiency\", axis = 1)\n",
    "target = working[\"Efficiency\"]"
   ]
  },
  {
   "cell_type": "code",
   "execution_count": 85,
   "metadata": {},
   "outputs": [
    {
     "data": {
      "text/plain": [
       "Spend                          0\n",
       "Impressions                    0\n",
       "OrganizationName               0\n",
       "CandidateBallotInformation     0\n",
       "PayingAdvertiserName           0\n",
       "Gender                         0\n",
       "CountryCode                    0\n",
       "RegionID                       0\n",
       "ElectoralDistrictID            0\n",
       "MetroID                        0\n",
       "Interests                      0\n",
       "OsType                         0\n",
       "Segments                       0\n",
       "LocationType                   0\n",
       "Language                       0\n",
       "AdvancedDemographics           0\n",
       "Targeting Geo - Postal Code    0\n",
       "CreativeProperties             0\n",
       "Efficiency                     0\n",
       "duration of ads(days)          0\n",
       "low_age                        0\n",
       "high_age                       0\n",
       "dtype: int64"
      ]
     },
     "execution_count": 85,
     "metadata": {},
     "output_type": "execute_result"
    }
   ],
   "source": [
    "working.isnull().sum()"
   ]
  },
  {
   "cell_type": "code",
   "execution_count": 86,
   "metadata": {},
   "outputs": [],
   "source": [
    "X_train, X_test, y_train, y_test = train_test_split(features, target)"
   ]
  },
  {
   "cell_type": "code",
   "execution_count": 87,
   "metadata": {},
   "outputs": [],
   "source": [
    "clf_alt = Pipeline(steps=[('preprocessor', preprocessor),\n",
    "                      ('regressor', SVC(gamma='auto'))])"
   ]
  },
  {
   "cell_type": "code",
   "execution_count": 88,
   "metadata": {},
   "outputs": [
    {
     "data": {
      "text/plain": [
       "0.6950182260024301"
      ]
     },
     "execution_count": 88,
     "metadata": {},
     "output_type": "execute_result"
    }
   ],
   "source": [
    "clf_alt.fit(X_train, y_train)\n",
    "clf_alt.score(X_test, y_test)"
   ]
  },
  {
   "cell_type": "markdown",
   "metadata": {},
   "source": [
    "We happily find out a large improve in our model! But we decide to go one step further."
   ]
  },
  {
   "cell_type": "markdown",
   "metadata": {},
   "source": [
    "##### Final attempt\n",
    "* Grid Search: Since in Lecture, Professor had mentioned this method. We are using SVM for our model, which contains a lot of parameters. Thus, we decide to use grid search to find a better model."
   ]
  },
  {
   "cell_type": "code",
   "execution_count": 89,
   "metadata": {},
   "outputs": [],
   "source": [
    "# the parameters we want to check\n",
    "Parameters = {\"C\": np.arange(1,16),\n",
    "             \"kernel\": [\"rbf\", \"linear\", \"poly\", \"sigmoid\"],\n",
    "             \"probability\": [True,False],\n",
    "             \"gamma\":[\"auto\"]}\n",
    "\n",
    "# the final model\n",
    "clf = Pipeline(steps=[('preprocessor', preprocessor),\n",
    "                      ('regressor', GridSearchCV(SVC(), Parameters, cv = 3))])"
   ]
  },
  {
   "cell_type": "code",
   "execution_count": 90,
   "metadata": {},
   "outputs": [
    {
     "data": {
      "text/plain": [
       "Pipeline(memory=None,\n",
       "         steps=[('preprocessor',\n",
       "                 ColumnTransformer(n_jobs=None, remainder='passthrough',\n",
       "                                   sparse_threshold=0.3,\n",
       "                                   transformer_weights=None,\n",
       "                                   transformers=[('scaler',\n",
       "                                                  Pipeline(memory=None,\n",
       "                                                           steps=[('scaler-reg',\n",
       "                                                                   StdScalerByGroup())],\n",
       "                                                           verbose=False),\n",
       "                                                  ['low_age', 'Spend']),\n",
       "                                                 ('scaler_2',\n",
       "                                                  Pipeline(memory=None,\n",
       "                                                           steps=[('scaler-reg',\n",
       "                                                                   StdScalerByGroup())],\n",
       "                                                           verbose=...\n",
       "                                            kernel='rbf', max_iter=-1,\n",
       "                                            probability=False,\n",
       "                                            random_state=None, shrinking=True,\n",
       "                                            tol=0.001, verbose=False),\n",
       "                              iid='warn', n_jobs=None,\n",
       "                              param_grid={'C': array([ 1,  2,  3,  4,  5,  6,  7,  8,  9, 10, 11, 12, 13, 14, 15]),\n",
       "                                          'gamma': ['auto'],\n",
       "                                          'kernel': ['rbf', 'linear', 'poly',\n",
       "                                                     'sigmoid'],\n",
       "                                          'probability': [True, False]},\n",
       "                              pre_dispatch='2*n_jobs', refit=True,\n",
       "                              return_train_score=False, scoring=None,\n",
       "                              verbose=0))],\n",
       "         verbose=False)"
      ]
     },
     "execution_count": 90,
     "metadata": {},
     "output_type": "execute_result"
    }
   ],
   "source": [
    "# it runs the models and return the best result\n",
    "clf.fit(X_train, y_train)"
   ]
  },
  {
   "cell_type": "code",
   "execution_count": 91,
   "metadata": {},
   "outputs": [
    {
     "data": {
      "text/plain": [
       "{'C': 8, 'gamma': 'auto', 'kernel': 'linear', 'probability': True}"
      ]
     },
     "execution_count": 91,
     "metadata": {},
     "output_type": "execute_result"
    }
   ],
   "source": [
    "# the parameters of a better model\n",
    "clf.named_steps[\"regressor\"].best_params_"
   ]
  },
  {
   "cell_type": "code",
   "execution_count": 92,
   "metadata": {},
   "outputs": [
    {
     "data": {
      "text/plain": [
       "0.7703523693803159"
      ]
     },
     "execution_count": 92,
     "metadata": {},
     "output_type": "execute_result"
    }
   ],
   "source": [
    "# the score of the new model, which also proved a lot fron the last one\n",
    "clf.score(X_test, y_test) "
   ]
  },
  {
   "cell_type": "markdown",
   "metadata": {},
   "source": [
    "### Final Model Conclusion\n",
    "Thus, we finished our reseach on the final model. For the top-5 columns, we fit them with one hot encoder. We use the standard scaler for duration column and just passthrough the 1/0 columns. For low_age and high_age, we combined them with spend and impressions columns and use z-scaler by group to fit. \n",
    "Our final model will be the SVC with {'C': 14, 'gamma': 'auto', 'kernel': 'linear', 'probability': True}, which gives us a score around 0.83"
   ]
  },
  {
   "cell_type": "markdown",
   "metadata": {},
   "source": [
    "### Fairness Evaluation\n",
    "To do the fairness evaluation, we first have to calculate the true positive(TP), true negative(TN), false positive(FP), and false negative(FN). Then, we will be able to calculate the recall, precision, specificity, F1-score, and FDR to further evaluate the model prediction. Since the accuracy is the aggregated outcome made by the model, it washes away other important statistics. Therefore, it is crucial to calculate other statistics/tools to make sure that the train model is \"fair\". Therefore, we will be calculating the following statistics:\n",
    "\n",
    "`Positive`: Ads belonging to low-efficiency group.\n",
    "\n",
    "`Negative`: Ads belonging to high-efficiency group.\n",
    "\n",
    "`TP`: Low-efficiency Political Ads correctly identified as belonging to low-efficiency group.\n",
    "\n",
    "`FN`: Low-efficiency Political Ads incorrectly identified as belonging to high-efficiency group.\n",
    "\n",
    "`TN`: High-efficiency Political Ads correctly identified as belonging to high-efficiecny group.\n",
    "\n",
    "`FP`: High-efficiency Political Ads incorrectly identified as belonging to low-efficiency group.\n",
    "\n",
    "`recall`: The proportions of actual positives that are correctly identified. In our case, it is the proportions of low-efficiency Political Ads that are correctly identified as belonging to low-efficiency group.\n",
    "\n",
    "`specificity`: The proportions of actual negatives that are correctly identified. In our case, it is the proportions of high-efficiency Political Ads that are correctly identified as belonging to high-efficiency group.\n",
    "\n",
    "`precision`: The proportions of positive identifications that are actually correct. In our case, it is the proportions of corrrectly identified Ads as belonging to low-efficiency group.\n",
    "\n",
    "`F1-score`: A test statistics that indicate how well the model label the positive instances.\n",
    "\n",
    "`False Discovery Rate(FDR)`: The proportions of positive identifications that are false.\n",
    "\n",
    "\n",
    "\n"
   ]
  },
  {
   "cell_type": "code",
   "execution_count": 93,
   "metadata": {},
   "outputs": [
    {
     "data": {
      "text/plain": [
       "<matplotlib.axes._subplots.AxesSubplot at 0x1a28130210>"
      ]
     },
     "execution_count": 93,
     "metadata": {},
     "output_type": "execute_result"
    },
    {
     "data": {
      "image/png": "[encoded data removed]",
      "text/plain": [
       "<Figure size 432x288 with 2 Axes>"
      ]
     },
     "metadata": {
      "image/png": {
       "height": 253,
       "width": 352
      },
      "needs_background": "light"
     },
     "output_type": "display_data"
    }
   ],
   "source": [
    "from sklearn.metrics import confusion_matrix\n",
    "prediction = clf.predict(X_test)\n",
    "cm_svm = confusion_matrix(y_test, prediction)\n",
    "sns.heatmap(cm_svm, annot = True, cmap=\"YlGnBu\", fmt = \"g\")"
   ]
  },
  {
   "cell_type": "code",
   "execution_count": 94,
   "metadata": {},
   "outputs": [],
   "source": [
    "TN, FP, FN, TP = cm_svm.ravel()"
   ]
  },
  {
   "cell_type": "code",
   "execution_count": 95,
   "metadata": {},
   "outputs": [
    {
     "data": {
      "text/plain": [
       "0.7156626506024096"
      ]
     },
     "execution_count": 95,
     "metadata": {},
     "output_type": "execute_result"
    }
   ],
   "source": [
    "recall = TP / (TP + FN)\n",
    "recall"
   ]
  },
  {
   "cell_type": "code",
   "execution_count": 96,
   "metadata": {},
   "outputs": [
    {
     "data": {
      "text/plain": [
       "0.8070652173913043"
      ]
     },
     "execution_count": 96,
     "metadata": {},
     "output_type": "execute_result"
    }
   ],
   "source": [
    "precision = TP / (TP + FP)\n",
    "precision"
   ]
  },
  {
   "cell_type": "code",
   "execution_count": 97,
   "metadata": {},
   "outputs": [
    {
     "data": {
      "text/plain": [
       "0.8259803921568627"
      ]
     },
     "execution_count": 97,
     "metadata": {},
     "output_type": "execute_result"
    }
   ],
   "source": [
    "specificity = TN / (TN + FP)\n",
    "specificity"
   ]
  },
  {
   "cell_type": "code",
   "execution_count": 98,
   "metadata": {},
   "outputs": [
    {
     "data": {
      "text/plain": [
       "0.7586206896551725"
      ]
     },
     "execution_count": 98,
     "metadata": {},
     "output_type": "execute_result"
    }
   ],
   "source": [
    "F1 = 2 * ((precision * recall) / (precision + recall))\n",
    "F1"
   ]
  },
  {
   "cell_type": "code",
   "execution_count": 99,
   "metadata": {},
   "outputs": [
    {
     "data": {
      "text/plain": [
       "0.19293478260869565"
      ]
     },
     "execution_count": 99,
     "metadata": {},
     "output_type": "execute_result"
    }
   ],
   "source": [
    "FDR = FP / (TP + FP)\n",
    "FDR"
   ]
  },
  {
   "cell_type": "markdown",
   "metadata": {},
   "source": [
    "### Intepretation\n",
    "The recall, precision, specificity, and F1-score have \"descent\" proportions. This mean that our trained model is not particularily biasesd toward correctively or incorrectively identifying positive and negative classes. In other words, our model is fair when trying to make prediction on positive and negative classes.\n",
    "\n",
    "The FDR is relatively low compared to other values, which is a good sign. This means that we only have roughly 20% of the time that the model would incorrectly identify Political Ads as belonging to low-efficiency group when in fact it belongs to high-efficiency group."
   ]
  },
  {
   "cell_type": "markdown",
   "metadata": {},
   "source": [
    "### More data Visualization through plotting\n",
    "\n",
    "We could further examine the data by making a table that indicate whether or not a specific Political Ads are identified as FN, FP, TN, and TP. Then, we will do the following:\n",
    "\n",
    "* Make a scatter plot of Spend against Impressions distinguished by the table that contains FN, FP, TN, and TP. If there is any specific patterns such as region of concentration, then we can further look into the data and possibly improve the model.\n",
    "\n",
    "* Make distributions plot of Spend and Impressions distinguished by the table that contains FN, FP, TN, and TP. Each curve represent the value in which each category is most likely to be classified as."
   ]
  },
  {
   "cell_type": "code",
   "execution_count": 100,
   "metadata": {},
   "outputs": [
    {
     "data": {
      "text/plain": [
       "array([[ True, False, False, False],\n",
       "       [False, False, False,  True],\n",
       "       [False, False, False,  True],\n",
       "       ...,\n",
       "       [False, False, False,  True],\n",
       "       [False, False,  True, False],\n",
       "       [False, False, False,  True]])"
      ]
     },
     "execution_count": 100,
     "metadata": {},
     "output_type": "execute_result"
    }
   ],
   "source": [
    "fn = (prediction == 0) & (y_test == 1)\n",
    "fp = (prediction == 1) & (y_test == 0)\n",
    "tn = (prediction == 0) & (y_test == 0)\n",
    "tp = (prediction == 1) & (y_test == 1)\n",
    "\n",
    "arr = np.vstack([fn,fp,tn,tp]).T\n",
    "\n",
    "arr"
   ]
  },
  {
   "cell_type": "markdown",
   "metadata": {},
   "source": [
    "From this scatter plot, we discovered that almost all of the TP, FN, TN, and FP are clustered in the same region. This implies that when Impression and Spend are located in a specific range, the model will not do a great job on making prediction."
   ]
  },
  {
   "cell_type": "code",
   "execution_count": 101,
   "metadata": {},
   "outputs": [
    {
     "data": {
      "text/plain": [
       "<matplotlib.axes._subplots.AxesSubplot at 0x1a28217a50>"
      ]
     },
     "execution_count": 101,
     "metadata": {},
     "output_type": "execute_result"
    },
    {
     "data": {
      "image/png": "[encoded data removed]",
      "text/plain": [
       "<Figure size 432x288 with 1 Axes>"
      ]
     },
     "metadata": {
      "image/png": {
       "height": 261,
       "width": 415
      },
      "needs_background": "light"
     },
     "output_type": "display_data"
    }
   ],
   "source": [
    "results = pd.DataFrame(arr, columns=['FN', 'FP', 'TN', 'TP']).idxmax(axis=1)\n",
    "sns.scatterplot(data=X_test.assign(res=results), x='Spend', y='Impressions', hue='res')"
   ]
  },
  {
   "cell_type": "markdown",
   "metadata": {},
   "source": [
    "We can further examine the same phenomenon that took place in the scatter plot through distributions. Noticed that each curve center roughly around the same mean value(for both Spend and Impression). This implies that the model is not doing great when the Spend and Impression values are located in that specific region(The region around the peaks).\n",
    "\n",
    "We could also observe the amount of spreadness. From both distributions, the TP seem to have the largest variance. This implies that TP is the hardnest to determine with respect to Spend and Impression because the region(or the confidence interval) is large so the model is more uncertain determining whether or not the political ads are FP by looking at Spend and Impression."
   ]
  },
  {
   "cell_type": "code",
   "execution_count": 102,
   "metadata": {},
   "outputs": [
    {
     "data": {
      "text/plain": [
       "res\n",
       "FN    AxesSubplot(0.547727,0.125;0.352273x0.755)\n",
       "FP    AxesSubplot(0.547727,0.125;0.352273x0.755)\n",
       "TN    AxesSubplot(0.547727,0.125;0.352273x0.755)\n",
       "TP    AxesSubplot(0.547727,0.125;0.352273x0.755)\n",
       "Name: Impressions, dtype: object"
      ]
     },
     "execution_count": 102,
     "metadata": {},
     "output_type": "execute_result"
    },
    {
     "data": {
      "image/png": "[encoded data removed]",
      "text/plain": [
       "<Figure size 1152x288 with 2 Axes>"
      ]
     },
     "metadata": {
      "image/png": {
       "height": 263,
       "width": 963
      },
      "needs_background": "light"
     },
     "output_type": "display_data"
    }
   ],
   "source": [
    "plt.subplots(1,2, figsize = (16, 4))\n",
    "plt.subplot(1,2,1)\n",
    "X_test.assign(res=results).groupby('res')[\"Spend\"].plot(kind='kde', legend=True, title=\"Spend\")\n",
    "plt.subplot(1,2,2)\n",
    "X_test.assign(res=results).groupby('res')[\"Impressions\"].plot(kind='kde', legend=True, title=\"Impressions\")"
   ]
  },
  {
   "cell_type": "markdown",
   "metadata": {},
   "source": [
    "### Permutation Test\n",
    "So far, we had evaluated our final model with recall, precision, specifify, F1, and FDR and plotting such as scatter plot and distribution plot distinguished by TP, TN, FP, FN. However, what if we want to know whether or not our predictions are biased toward a specific category of people? In other words, there may be a difference of recall between Ads that has a targeted a specific gender versus Ads that are inclusive in terms of gender. Therefore, we could perform a permutation test to find out the biases.\n",
    "\n",
    "* test statistics: Recall(or true positive rate)\n",
    "* Significance Level: 0.05\n",
    "* We plan to perform the test on these data: Gender, Segments, AdvancedDemographics, and CreativeProperties."
   ]
  },
  {
   "cell_type": "code",
   "execution_count": 103,
   "metadata": {},
   "outputs": [],
   "source": [
    "from sklearn import metrics\n",
    "perf_df = X_test\n",
    "prediction = clf_alt.predict(X_test)\n",
    "perf_df = perf_df.assign(Efficiency_predict = prediction, Efficiency = y_test)"
   ]
  },
  {
   "cell_type": "code",
   "execution_count": 104,
   "metadata": {},
   "outputs": [],
   "source": [
    "def tpp(df, col_name):\n",
    "    func = lambda x: metrics.recall_score(x.Efficiency, x.Efficiency_predict)\n",
    "    obs = df.groupby(col_name).apply(func).diff().abs().iloc[-1]\n",
    "    metrs = []\n",
    "    for _ in range(300):\n",
    "        s = (\n",
    "            df[[col_name, 'Efficiency', 'Efficiency_predict']]\n",
    "            .assign(**{col_name:perf_df.Gender.sample(frac=1.0, replace=False).reset_index(drop=True)})\n",
    "            .groupby(col_name)\n",
    "            .apply(func)\n",
    "            .diff()\n",
    "            .abs()\n",
    "            .iloc[-1]\n",
    "        )\n",
    "\n",
    "        metrs.append(s)\n",
    "    pd.Series(metrs).plot(kind='hist', title='Permutation Test for Ads Efficiency across different ' + col_name)\n",
    "    print(\"p_val: \" + str(pd.Series(metrs >= obs).mean()))\n",
    "    return plt.scatter(obs, 0, c='r')"
   ]
  },
  {
   "cell_type": "markdown",
   "metadata": {},
   "source": [
    "##### Permutation test on Gender:\n",
    "* Null hypothesis: The recall score between Ads that target a specific gender and Ads that are inclusive in gender comes from the SAME distriubtion.\n",
    "* Alternative hypothesis: The recall score between Ads that target a specific gender and Ads that are inclusive in gender comes from DIFFERENT distriubtion."
   ]
  },
  {
   "cell_type": "code",
   "execution_count": 105,
   "metadata": {},
   "outputs": [
    {
     "name": "stdout",
     "output_type": "stream",
     "text": [
      "p_val: 0.13\n"
     ]
    },
    {
     "data": {
      "text/plain": [
       "<matplotlib.collections.PathCollection at 0x1a29c4efd0>"
      ]
     },
     "execution_count": 105,
     "metadata": {},
     "output_type": "execute_result"
    },
    {
     "data": {
      "image/png": "[encoded data removed]",
      "text/plain": [
       "<Figure size 432x288 with 1 Axes>"
      ]
     },
     "metadata": {
      "image/png": {
       "height": 263,
       "width": 393
      },
      "needs_background": "light"
     },
     "output_type": "display_data"
    }
   ],
   "source": [
    "tpp(perf_df, \"Gender\")"
   ]
  },
  {
   "cell_type": "markdown",
   "metadata": {},
   "source": [
    "##### Permutation test on Segments:\n",
    "* Null hypothesis: The recall score between Ads that apply segment criteria and Ads that don't apply segment criteria comes from the SAME distriubtion.\n",
    "* Alternative hypothesis: The recall score between Ads that apply segment criteria and Ads that don't apply segment criteria comes from DIFFERENT distriubtion."
   ]
  },
  {
   "cell_type": "code",
   "execution_count": 106,
   "metadata": {},
   "outputs": [
    {
     "name": "stdout",
     "output_type": "stream",
     "text": [
      "p_val: 0.08333333333333333\n"
     ]
    },
    {
     "data": {
      "text/plain": [
       "<matplotlib.collections.PathCollection at 0x1a28c6bf50>"
      ]
     },
     "execution_count": 106,
     "metadata": {},
     "output_type": "execute_result"
    },
    {
     "data": {
      "image/png": "[encoded data removed]",
      "text/plain": [
       "<Figure size 432x288 with 1 Axes>"
      ]
     },
     "metadata": {
      "image/png": {
       "height": 263,
       "width": 401
      },
      "needs_background": "light"
     },
     "output_type": "display_data"
    }
   ],
   "source": [
    "tpp(perf_df, \"Segments\")"
   ]
  },
  {
   "cell_type": "markdown",
   "metadata": {},
   "source": [
    "##### Permutation test on AdvancedDemographics:\n",
    "* Null hypothesis: The recall score between Ads that apply AdvancedDemographics criteria and Ads that don't apply AdvancedDemohraphics criteria comes from the SAME distriubtion.\n",
    "* Alternative hypothesis: The recall score between Ads that apply AdvancedDemographics criteria and Ads that don't apply AdvancedDemohraphics criteria comes from DIFFERENT distriubtion."
   ]
  },
  {
   "cell_type": "code",
   "execution_count": null,
   "metadata": {},
   "outputs": [],
   "source": [
    "tpp(perf_df, \"AdvancedDemographics\")"
   ]
  },
  {
   "cell_type": "code",
   "execution_count": null,
   "metadata": {},
   "outputs": [],
   "source": []
  }
 ],
 "metadata": {
  "kernelspec": {
   "display_name": "Python 3",
   "language": "python",
   "name": "python3"
  },
  "language_info": {
   "codemirror_mode": {
    "name": "ipython",
    "version": 3
   },
   "file_extension": ".py",
   "mimetype": "text/x-python",
   "name": "python",
   "nbconvert_exporter": "python",
   "pygments_lexer": "ipython3",
   "version": "3.7.4"
  }
 },
 "nbformat": 4,
 "nbformat_minor": 2
}
